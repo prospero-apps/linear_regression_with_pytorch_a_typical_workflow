{
  "nbformat": 4,
  "nbformat_minor": 0,
  "metadata": {
    "colab": {
      "provenance": [],
      "gpuType": "T4"
    },
    "kernelspec": {
      "name": "python3",
      "display_name": "Python 3"
    },
    "language_info": {
      "name": "python"
    },
    "accelerator": "GPU"
  },
  "cells": [
    {
      "cell_type": "markdown",
      "source": [
        "PyTorch is a very popular machine learning library used to solved all kinds of problems, including regression and classification. In this article, we'll have a look at a typical workflow for a simple linear regression problem. To keep things simple, we'll stick to just the necessary elements, from importing the required libraries to saving and loading a trained model."
      ],
      "metadata": {
        "id": "F__7IaIkhU0a"
      }
    },
    {
      "cell_type": "markdown",
      "source": [
        "There are four major steps to follow during a machine learning process:\n",
        "\n",
        "1) Data preparation <br>\n",
        "2) Model building <br>\n",
        "3) Model training <br>\n",
        "4) Model evaluation <br>\n",
        "\n",
        "Additionally, we'll save the working model, load it back in and test if it still works as expected."
      ],
      "metadata": {
        "id": "fjVcQiMriwRj"
      }
    },
    {
      "cell_type": "markdown",
      "source": [
        "And now, without further ado, let's jump right in and start at the first step."
      ],
      "metadata": {
        "id": "vlc_HlFgjrrT"
      }
    },
    {
      "cell_type": "markdown",
      "source": [
        "## Data Preparation"
      ],
      "metadata": {
        "id": "1B0tCIq8kB6L"
      }
    },
    {
      "cell_type": "markdown",
      "source": [
        "We're going to need some stuff to work with, so, as usual, let's start with the imports:"
      ],
      "metadata": {
        "id": "_HkjX85nkH0T"
      }
    },
    {
      "cell_type": "code",
      "execution_count": null,
      "metadata": {
        "id": "MGyvYaa9Ui0y"
      },
      "outputs": [],
      "source": [
        "import torch\n",
        "from torch import nn\n",
        "import matplotlib.pyplot as plt\n",
        "import pandas as pd"
      ]
    },
    {
      "cell_type": "markdown",
      "source": [
        "Let's check out the version of PyTorch:"
      ],
      "metadata": {
        "id": "NCri--bP1z0Y"
      }
    },
    {
      "cell_type": "code",
      "source": [
        "torch.__version__"
      ],
      "metadata": {
        "colab": {
          "base_uri": "https://localhost:8080/",
          "height": 36
        },
        "id": "bhcJxrO716hf",
        "outputId": "50e3e7c8-8638-42b0-90f1-588c80f075fb"
      },
      "execution_count": null,
      "outputs": [
        {
          "output_type": "execute_result",
          "data": {
            "text/plain": [
              "'2.5.1+cu124'"
            ],
            "application/vnd.google.colaboratory.intrinsic+json": {
              "type": "string"
            }
          },
          "metadata": {},
          "execution_count": 2
        }
      ]
    },
    {
      "cell_type": "markdown",
      "source": [
        "### Parameters and Data Points"
      ],
      "metadata": {
        "id": "k6TYeyYiHDyy"
      }
    },
    {
      "cell_type": "markdown",
      "source": [
        "There are all kinds of data out there. Anything can be data: text, numbers, images, sounds, videos, and what have you. As our machines only understand numbers, all these kinds of data must be turned into numbers. To make it simpler, let's use numerical data from the very beginning. Our data is going to be 100 float numbers between 0 and 1 arranged linearly, so in such a way that a given change along the X axis always produces the same change along the Y axis."
      ],
      "metadata": {
        "id": "0rj8ugNf2BH5"
      }
    },
    {
      "cell_type": "markdown",
      "source": [
        "This sounds like a typical linear function where y is calculated in the following manner:\n",
        "\n",
        "$ \\text{y} = \\text{ax} + \\text{b} $<br>\n",
        "\n",
        "So, we have the x, we need the two parameters, a and b. Also, let's rename them weight and bias respectively, as this is the nomenclature used in machine learning. We're actually going to create a very simple neural network with one input, one output, one weight and one bias.\n",
        "\n",
        "Normally, we don't know what the parameters are. The weights and biases are usually initialized with some random values. In our case, however, let's set them explicitly so that we can clearly see what's going on and how our prediction slowly approach the desired values.\n",
        "\n",
        "Weights and biases are paraeters. Again, in ML nomenclature, parameters are things that can be learned by the model. This is exactly what we are going to do here. At first the model will use fully random values and then it will learn and change the values so that they get closer and closer to the original values we're just going to set.\n",
        "\n",
        "And one more thing. We usually use capital letters for the features (X in this case) and small letters for the labels (y in this case). So, our formula can be rewritten as:\n",
        "\n",
        "$ \\text{y} = \\text{weight} \\times \\text{X} + \\text{bias} $<br>\n",
        "\n",
        "And now, let's set the parameters and create the data points:"
      ],
      "metadata": {
        "id": "dXl0NZyb3QYp"
      }
    },
    {
      "cell_type": "code",
      "source": [
        "# Let's set the parameters.\n",
        "weight = 0.8\n",
        "bias = 0.4\n",
        "\n",
        "# Let's create the data points\n",
        "start = 0\n",
        "end = 1\n",
        "step = 0.01\n",
        "\n",
        "# We use unsqueeze to add a dimension of size 1.\n",
        "X = torch.arange(start, end, step).unsqueeze(dim=1)\n",
        "\n",
        "# Here's the formula for y.\n",
        "y = weight * X + bias\n",
        "\n",
        "# Let's view some initial values.\n",
        "X[:5], y[:5]"
      ],
      "metadata": {
        "colab": {
          "base_uri": "https://localhost:8080/"
        },
        "id": "qd8GoXu-Wxdw",
        "outputId": "522a40c2-1f3e-4253-ae0d-d6e04812d090"
      },
      "execution_count": null,
      "outputs": [
        {
          "output_type": "execute_result",
          "data": {
            "text/plain": [
              "(tensor([[0.0000],\n",
              "         [0.0100],\n",
              "         [0.0200],\n",
              "         [0.0300],\n",
              "         [0.0400]]),\n",
              " tensor([[0.4000],\n",
              "         [0.4080],\n",
              "         [0.4160],\n",
              "         [0.4240],\n",
              "         [0.4320]]))"
            ]
          },
          "metadata": {},
          "execution_count": 3
        }
      ]
    },
    {
      "cell_type": "markdown",
      "source": [
        "### Training Set and Test Set"
      ],
      "metadata": {
        "id": "feaGlBFVGpT4"
      }
    },
    {
      "cell_type": "markdown",
      "source": [
        "Before we start building our model, we have to split the data into two or three sets. Most of the data will be used for training and we'll put it in the training set. But we want to keep some of the data apart so that the model never gets to see it. This way it will not influence the model during the training and we'll be able to see how well our model performs on data it has never seen. That's the whole point, after all. We don't want our model to perform well just on the training data, it should perform well on unknown data.\n",
        "\n",
        "Sometimes we create one more set, validation set, with data used to validate the model before applying it to test data. We can use it to tune the model. This set is not always used, though, and for simplicity's sake, we're not going to create it either.\n",
        "\n",
        "So, let's split our data into a training set (80% of the data) and a test set (the remaining 20% of the data):"
      ],
      "metadata": {
        "id": "UU8I-ZcMHUvK"
      }
    },
    {
      "cell_type": "code",
      "source": [
        "# Let's split the data into two sets.\n",
        "split_level = int(0.8 * len(X))\n",
        "\n",
        "# We'll have the following sets:\n",
        "# X_train - training set with features\n",
        "# y_train - training set with labels\n",
        "# X_test - test set with features\n",
        "# y_test - test set with labels\n",
        "X_train, y_train = X[:split_level], y[:split_level]\n",
        "X_test, y_test = X[split_level:], y[split_level:]\n",
        "\n",
        "# Let's check the sizes of the sets.\n",
        "len(X_train), len(y_train), len(X_test), len(y_test)"
      ],
      "metadata": {
        "colab": {
          "base_uri": "https://localhost:8080/"
        },
        "id": "-LT2cnD8g1XS",
        "outputId": "6bac2fde-b11c-42ef-defc-0014f27d166f"
      },
      "execution_count": null,
      "outputs": [
        {
          "output_type": "execute_result",
          "data": {
            "text/plain": [
              "(80, 80, 20, 20)"
            ]
          },
          "metadata": {},
          "execution_count": 4
        }
      ]
    },
    {
      "cell_type": "markdown",
      "source": [
        "Good, we have 80 data points for training and 10 data points for testing. But it would be awesome to visualize the data. Computers like numbers, humans like to see things."
      ],
      "metadata": {
        "id": "lb5zBgxDJ0o9"
      }
    },
    {
      "cell_type": "markdown",
      "source": [
        "### Data Visualization"
      ],
      "metadata": {
        "id": "B50WnTn6KHZn"
      }
    },
    {
      "cell_type": "markdown",
      "source": [
        "Let's create a function to visualize the data because we'll be visualizing data a couple times. We'll pass the four sets to the function as well as predictions. For now we don't have any predictions, so we'll set it to None and plot them conditionally, only if they exist. A scatter plot seems like a good choice to visualize the data points as actual points. Here's the function:"
      ],
      "metadata": {
        "id": "Vs6GryjhKMM0"
      }
    },
    {
      "cell_type": "code",
      "source": [
        "# We pass the four sets and predictions to the function.\n",
        "def plot_predictions(train_data=X_train,\n",
        "                     train_labels=y_train,\n",
        "                     test_data=X_test,\n",
        "                     test_labels=y_test,\n",
        "                     predictions=None):\n",
        "  \"\"\"\n",
        "  Plots training data, test data and predictions if there are any.\n",
        "  \"\"\"\n",
        "  plt.figure(figsize=(12, 6))\n",
        "\n",
        "  # Plot training data.\n",
        "  plt.scatter(train_data, train_labels, marker='o', c=\"darkblue\", s=6, label=\"Training data\")\n",
        "\n",
        "  # Plot test data.\n",
        "  plt.scatter(test_data, test_labels, marker='o', c=\"green\", s=6, label=\"Test data\")\n",
        "\n",
        "  if predictions is not None:\n",
        "    # Plot predictions.\n",
        "    plt.scatter(test_data, predictions, marker='o', c=\"red\", s=6, label=\"Predictions\")\n",
        "\n",
        "  # Show the legend.\n",
        "  plt.legend(prop={\"size\": 15});"
      ],
      "metadata": {
        "id": "K5-XvWWng2Ai"
      },
      "execution_count": 6,
      "outputs": []
    },
    {
      "cell_type": "markdown",
      "source": [
        "Let's call the function and see our data points. We can clearly tell the training data from the test data by color:"
      ],
      "metadata": {
        "id": "Z4TIWVM5Wdfo"
      }
    },
    {
      "cell_type": "code",
      "source": [
        "plot_predictions()"
      ],
      "metadata": {
        "colab": {
          "base_uri": "https://localhost:8080/",
          "height": 522
        },
        "id": "-i3g0xTzhRmv",
        "outputId": "8d00f66f-3e91-45a1-c741-cefa713a8fb8"
      },
      "execution_count": null,
      "outputs": [
        {
          "output_type": "display_data",
          "data": {
            "text/plain": [
              "<Figure size 1200x600 with 1 Axes>"
            ],
            "image/png": "[encoded data removed]"
          },
          "metadata": {}
        }
      ]
    },
    {
      "cell_type": "markdown",
      "source": [
        "Good, we have the data, we can see it. Now we can start building our model."
      ],
      "metadata": {
        "id": "Qaj9_aV1Wvo5"
      }
    },
    {
      "cell_type": "markdown",
      "source": [
        "## Model Building"
      ],
      "metadata": {
        "id": "3f7RBvwYXUe3"
      }
    },
    {
      "cell_type": "markdown",
      "source": [
        "In the plot above we can see blue and green dots. The former represent the training data, the latter represent the test data. What we want to do is predict the test data. This means our predictions should be as close to the green dots as possible, ideally they should overlap, which is practically never the case, but they can be very, very close if the model works well. Speaking of which..."
      ],
      "metadata": {
        "id": "XvxhwLTGXJSh"
      }
    },
    {
      "cell_type": "markdown",
      "source": [
        "### Linear Regression Model with nn.Parameter"
      ],
      "metadata": {
        "id": "CY6FSJR7mkdd"
      }
    },
    {
      "cell_type": "markdown",
      "source": [
        "Models in PyTorch inherit from `nn.Module`. In the `__init__` method, we have to initialize our parameters. We can do it by explicitly setting them with `nn.Parameter` or we can create a linear layer of a neural network. Let's start by setting the parameters explicitly and we'll use the other solution later on to see how it compares. In any case, the parameters will be initialized with random values.\n",
        "\n",
        "We also set the `requires_grad` argument to `True`. This way, the parameters will be updated with gradient descent in each iteration of the training loop so that they can change towards the values in the test set. As you remember, the idea here is to make the predictions as close to the true labels in the test set as possible.\n",
        "\n",
        "Also, when we create a class that inherits from `nn.Module`, we have to overwrite the `forward` method. This method takes the features as an input (training or test features, depending on whether we're inside the training loop or the evaluation loop) and returns the predictions according to the linear regression formula we explained earlier. Here's the model class:"
      ],
      "metadata": {
        "id": "Ua0hju3Jms9o"
      }
    },
    {
      "cell_type": "code",
      "source": [],
      "metadata": {
        "id": "ZyyHDcYLXBs2"
      },
      "execution_count": null,
      "outputs": []
    },
    {
      "cell_type": "code",
      "source": [
        "# The class must inherit from nn.Module\n",
        "class LinearRegressionModel(nn.Module):\n",
        "    def __init__(self):\n",
        "        super().__init__()\n",
        "        # The parameters are initialized with random values and requires_grad set to True.\n",
        "        self.weights = nn.Parameter(torch.randn(1), requires_grad=True)\n",
        "        self.bias = nn.Parameter(torch.randn(1), requires_grad=True)\n",
        "\n",
        "    # We must overwrite the forward method that will perform the model's computation.\n",
        "    # The input is a tensor and so is the value returned by the method, so let's add the type annotations.\n",
        "    def forward(self, x: torch.Tensor) -> torch.Tensor:\n",
        "        return self.weights * x + self.bias"
      ],
      "metadata": {
        "id": "TNRzPH-8hVBG"
      },
      "execution_count": null,
      "outputs": []
    },
    {
      "cell_type": "markdown",
      "source": [
        "Now that we have our class defined, let's create an instance of it and check out the random values of the parameters. For reproducibility's sake, let's set a seed for the random data to be identical each time a model is instantiated:"
      ],
      "metadata": {
        "id": "iTkmObhFrzN2"
      }
    },
    {
      "cell_type": "code",
      "source": [
        "# Let's set the seed to make the random data reproducible. You can use any number here, but 42 is often used.\n",
        "torch.manual_seed(42)\n",
        "\n",
        "# Let's instantiate our model.\n",
        "model_0 = LinearRegressionModel()\n",
        "\n",
        "# Let's check out the parameters.\n",
        "list(model_0.parameters())"
      ],
      "metadata": {
        "colab": {
          "base_uri": "https://localhost:8080/"
        },
        "id": "QkekbrRDwlG5",
        "outputId": "0845b8df-b4b6-418e-85be-8baafba9289e"
      },
      "execution_count": null,
      "outputs": [
        {
          "output_type": "execute_result",
          "data": {
            "text/plain": [
              "[Parameter containing:\n",
              " tensor([0.3367], requires_grad=True),\n",
              " Parameter containing:\n",
              " tensor([0.1288], requires_grad=True)]"
            ]
          },
          "metadata": {},
          "execution_count": 8
        }
      ]
    },
    {
      "cell_type": "markdown",
      "source": [
        "As we can see, the random values of the two parameters are not even close to the values we set them to (0.8 and 0.4 respectively). We can also view the parameters as an ordered dictionary. To this end, we call the `state_dict` method. It returns all the parameters along with their values. We only have two parameters, but in more complex models there may be tens, thousands or even millions of them:"
      ],
      "metadata": {
        "id": "81T09mZvsya7"
      }
    },
    {
      "cell_type": "code",
      "source": [
        "# List named parameters\n",
        "model_0.state_dict()"
      ],
      "metadata": {
        "colab": {
          "base_uri": "https://localhost:8080/"
        },
        "id": "ItTYoLygwvGp",
        "outputId": "3099bb68-1657-4494-cb84-15a4cac12b0f"
      },
      "execution_count": null,
      "outputs": [
        {
          "output_type": "execute_result",
          "data": {
            "text/plain": [
              "OrderedDict([('weights', tensor([0.3367])), ('bias', tensor([0.1288]))])"
            ]
          },
          "metadata": {},
          "execution_count": 9
        }
      ]
    },
    {
      "cell_type": "markdown",
      "source": [
        "### Making Predictions"
      ],
      "metadata": {
        "id": "h6SaaMiOu5Hn"
      }
    },
    {
      "cell_type": "markdown",
      "source": [
        "We know that the random parameters are very different from the values we set, so we shouldn't expect the predictions to be good. Let's check it out.\n",
        "\n",
        "For predictions (also known as inference), we don't need the gradient tracking and a couple other things. To turn these features off, we use the `torch.inference_mode` as a context manager.\n",
        "\n",
        "When we pass data to our model, it will be passed to the `forward` method and the predictions will be returned. We have to pass the test data and then we'll be able to compare the predictions with the test labels. Let's not be very optimictic, though:"
      ],
      "metadata": {
        "id": "UaHj8ac0u8gX"
      }
    },
    {
      "cell_type": "code",
      "source": [
        "# Let's turn on inference mode and make the predictions.\n",
        "with torch.inference_mode():\n",
        "    y_preds = model_0(X_test)"
      ],
      "metadata": {
        "id": "9ZXLEh9Kw08W"
      },
      "execution_count": null,
      "outputs": []
    },
    {
      "cell_type": "markdown",
      "source": [
        "And now we can compare the predictions with the test values:"
      ],
      "metadata": {
        "id": "8M2LgzSWwgtp"
      }
    },
    {
      "cell_type": "code",
      "source": [
        "# Let's create a function using a pandas DataFrame to print the test values and the predictions side by side.\n",
        "def view_test_vs_predictions(y_test, y_preds):\n",
        "    test_vs_predictions = pd.DataFrame(zip(y_test, y_preds, y_test - y_preds), columns=['[y_test]', '[y_preds]', '[y_test - y_preds]'])\n",
        "    print(test_vs_predictions.to_string(index=False))"
      ],
      "metadata": {
        "id": "lh6-ft7TxeJd"
      },
      "execution_count": null,
      "outputs": []
    },
    {
      "cell_type": "markdown",
      "source": [
        "We should see three columns. In the first column, we'll have the test values. In the second column, we'll have the predictions. In the third column, we'll have the differences between the former and the latter. We're going to need the differences to calculate the loss later on:"
      ],
      "metadata": {
        "id": "70A2MUWszX84"
      }
    },
    {
      "cell_type": "code",
      "source": [
        "view_test_vs_predictions(y_test, y_preds)"
      ],
      "metadata": {
        "colab": {
          "base_uri": "https://localhost:8080/"
        },
        "id": "Al1W6EIPzXJg",
        "outputId": "b651839a-ece1-48ff-8535-6ee3dec50bb8"
      },
      "execution_count": null,
      "outputs": [
        {
          "output_type": "stream",
          "name": "stdout",
          "text": [
            "        [y_test]        [y_preds] [y_test - y_preds]\n",
            "[tensor(1.0400)] [tensor(0.3982)]   [tensor(0.6418)]\n",
            "[tensor(1.0480)] [tensor(0.4015)]   [tensor(0.6465)]\n",
            "[tensor(1.0560)] [tensor(0.4049)]   [tensor(0.6511)]\n",
            "[tensor(1.0640)] [tensor(0.4083)]   [tensor(0.6557)]\n",
            "[tensor(1.0720)] [tensor(0.4116)]   [tensor(0.6604)]\n",
            "[tensor(1.0800)] [tensor(0.4150)]   [tensor(0.6650)]\n",
            "[tensor(1.0880)] [tensor(0.4184)]   [tensor(0.6696)]\n",
            "[tensor(1.0960)] [tensor(0.4217)]   [tensor(0.6743)]\n",
            "[tensor(1.1040)] [tensor(0.4251)]   [tensor(0.6789)]\n",
            "[tensor(1.1120)] [tensor(0.4285)]   [tensor(0.6835)]\n",
            "[tensor(1.1200)] [tensor(0.4318)]   [tensor(0.6882)]\n",
            "[tensor(1.1280)] [tensor(0.4352)]   [tensor(0.6928)]\n",
            "[tensor(1.1360)] [tensor(0.4386)]   [tensor(0.6974)]\n",
            "[tensor(1.1440)] [tensor(0.4419)]   [tensor(0.7021)]\n",
            "[tensor(1.1520)] [tensor(0.4453)]   [tensor(0.7067)]\n",
            "[tensor(1.1600)] [tensor(0.4487)]   [tensor(0.7113)]\n",
            "[tensor(1.1680)] [tensor(0.4520)]   [tensor(0.7160)]\n",
            "[tensor(1.1760)] [tensor(0.4554)]   [tensor(0.7206)]\n",
            "[tensor(1.1840)] [tensor(0.4588)]   [tensor(0.7252)]\n",
            "[tensor(1.1920)] [tensor(0.4621)]   [tensor(0.7299)]\n"
          ]
        }
      ]
    },
    {
      "cell_type": "markdown",
      "source": [
        "As we see, they're different, which should be reflected on the plot:"
      ],
      "metadata": {
        "id": "FcjAfWHW1HnT"
      }
    },
    {
      "cell_type": "code",
      "source": [
        "plot_predictions(predictions=y_preds)"
      ],
      "metadata": {
        "colab": {
          "base_uri": "https://localhost:8080/",
          "height": 522
        },
        "id": "rW4Tv0JVyERH",
        "outputId": "3e9b387b-ad04-424e-c83d-65d6ea1b5f48"
      },
      "execution_count": null,
      "outputs": [
        {
          "output_type": "display_data",
          "data": {
            "text/plain": [
              "<Figure size 1200x600 with 1 Axes>"
            ],
            "image/png": "[encoded data removed]"
          },
          "metadata": {}
        }
      ]
    },
    {
      "cell_type": "markdown",
      "source": [
        "Just a reminder: The predictions (red dots) should ideally be on top of the test values (green dots). But are they?\n",
        "\n",
        "The differences between the test values and the predictions are huge. So, let's train the model to make it predict better."
      ],
      "metadata": {
        "id": "2ud0C3mx1U4p"
      }
    },
    {
      "cell_type": "markdown",
      "source": [
        "## Model Training"
      ],
      "metadata": {
        "id": "AfeuXnfz223x"
      }
    },
    {
      "cell_type": "markdown",
      "source": [
        "Training a model consists in continuous improvement of the parameters until they are very close to the target values, which are the values that will enable the predictions to be almost equal to the test values.\n",
        "\n",
        "Why are the predictions so poor now? This is because of the random values, which means there's nothing smart involved, it's pure guessing. If we want the parameters to improve gradually in each iteration of the training loop, we have to pick a loss function and an optimizer."
      ],
      "metadata": {
        "id": "TUiVCJEJ29r9"
      }
    },
    {
      "cell_type": "markdown",
      "source": [
        "### Loss Function and Optimizer"
      ],
      "metadata": {
        "id": "IINS1N9rTEPa"
      }
    },
    {
      "cell_type": "markdown",
      "source": [
        "So, what is a loss function? It's a function that measures how wrong the model's predictions are. The lower its value the better. It's calculated by comparing the predictions to the truth labels, which are are the test labels.\n",
        "\n",
        "There are many built-in loss functions in PyTorch. We're going to use a function called `nn.L1Loss` which is a fancy name for the MAE (mean absolute error) loss function, often used in regression. Just a quick reminder: The function calculates the mean distance between the predictions (red dots) and the test values (green dots). Smaller mean distance means the loss is smaller and predictions are better. But this is not the case here. Here, the loss is clearly significant and must be reduced.\n",
        "\n",
        "As for the optimizer, it tells the model how to update the parameters in order to lower the loss. There are many optimization functions in `torch.optim`. We're going to use the Stochastic Gradient Descent (SGD) optimizer, which is very popular. The optimizer takes the model's parameters that it is supposed to optimize (weight and bias) as the first argument and learning rate as the second argument.\n",
        "\n",
        "Learning rate is a number, usually pretty small, like 0.01, 0.001 or 0.0001, for example, that tells the optimizer how fast it should update the parameters. The higher the value, the faster the parameters will be updated, but if the value is too high, the minimum may be missed and the loss may start growing again. If the learning rate is too low, the optimizer will update the values too long.\n",
        "\n",
        "So, let's define the loss function and the optimizer:"
      ],
      "metadata": {
        "id": "4dISiVyUTIJ7"
      }
    },
    {
      "cell_type": "code",
      "source": [
        "# Define the MAE loss function.\n",
        "loss_fn = nn.L1Loss()\n",
        "\n",
        "# Define the SGD optimizer with the model's parameters (weight and bias) and learning rate (lr) equal to 0.01.\n",
        "optimizer = torch.optim.SGD(params=model_0.parameters(), lr=0.01)"
      ],
      "metadata": {
        "id": "l0y8Kv9oyTZh"
      },
      "execution_count": null,
      "outputs": []
    },
    {
      "cell_type": "markdown",
      "source": [
        "Next, we have to define the training loop and the testing loop."
      ],
      "metadata": {
        "id": "Jx6HmFq1XTzD"
      }
    },
    {
      "cell_type": "markdown",
      "source": [
        "### Training Loop and Testing Loop"
      ],
      "metadata": {
        "id": "dfCZdQcUXp0q"
      }
    },
    {
      "cell_type": "markdown",
      "source": [
        "The parameters are updated multiple times in a loop. In each iteration of the loop their values should get better. Iterating over the training data and updating the parameters is called the **training loop**.\n",
        "\n",
        "Iterating over the test data, on the other hand, and evaluating the patterns learned on the training data, is called the **testing loop**.\n",
        "\n",
        "Each loop consists of several steps. But before we list them here, we must decide how many times we want to loop. More iterations may mean better results because the model learns better. Each iteration is called an epoch. If we set the number of epochs to 100, there will be 100 iterations. If the results after the last epoch are not satisfactory, we can always train the model for more epochs and the training will then start where it left off. This means that training a model for 100 epochs and then for another 100 epochs will have the same result as training it for 200 epochs in the first place. So, let's start with 100 epochs and we'll see how much better the predictions get.\n",
        "\n",
        "Also, we're going to store the epoch count, the train loss values and the test loss values as lists. We'll use them to track these values so that we can visualize them later.\n",
        "\n",
        "So, what are the main stages of a training loop and testing loop? Let's start with the former.\n",
        "\n",
        "The steps inside a training loop contain:\n",
        "\n",
        "1. Forward pass - the model performs the `forward` method on all training data,\n",
        "2. Loss calculation - the model's predictions are compared to the test values to see how badly the model performs,\n",
        "3. Gradient zeroing - the optimizer's gradients are set to zero (by default, they're accumulated) so that they can be calculated from scratch for this step,\n",
        "4. Backpropagation - the gradient of the loss with respect to each parameter with `requires_grad` set to `True` is calculated,\n",
        "5. Gradient descent - the parameters are updated.\n",
        "\n",
        "The testing loop consists of the following steps:\n",
        "\n",
        "1. Forward pass - the model performs the `forward` method on all testing data,\n",
        "2. Loss calculation - the model's predictions are compared to the test values to see how badly the model performs,\n",
        "3. (optionally) Evaluation metrics - we can calculate metrics like accuracy, precision or recall on the test set; we're not going to do it here.\n",
        "\n",
        "Now, let's implement all these steps in the training and testing loops."
      ],
      "metadata": {
        "id": "uiM72am7XvBV"
      }
    },
    {
      "cell_type": "code",
      "source": [
        "# seed for reprodicibility of random values\n",
        "torch.manual_seed(42)\n",
        "\n",
        "# Train for 100 epochs.\n",
        "epochs = 100\n",
        "\n",
        "# lists to track values\n",
        "train_loss_values = []\n",
        "test_loss_values = []\n",
        "epoch_count = []\n",
        "\n",
        "for epoch in range(epochs):\n",
        "    ### Training loop\n",
        "\n",
        "    # Put the model in training mode.\n",
        "    model_0.train()\n",
        "\n",
        "    # The stages as described in the text.\n",
        "\n",
        "    # 1. Forward pass\n",
        "    y_pred = model_0(X_train)\n",
        "\n",
        "    # 2. Loss calculation\n",
        "    loss = loss_fn(y_pred, y_train)\n",
        "\n",
        "    # 3. Gradient zeroing\n",
        "    optimizer.zero_grad()\n",
        "\n",
        "    # 4. Backpropagation\n",
        "    loss.backward()\n",
        "\n",
        "    # 5. Gradient descent\n",
        "    optimizer.step()\n",
        "\n",
        "    ### Testing loop\n",
        "\n",
        "    # Put the model in evaluation mode.\n",
        "    model_0.eval()\n",
        "\n",
        "    with torch.inference_mode():\n",
        "\n",
        "        # The stages as described in the text.\n",
        "        # 1. Forward pass\n",
        "        test_pred = model_0(X_test)\n",
        "\n",
        "        # 2. Loss calculation\n",
        "        # Predictions are of the float data type and so must be the test labels in order to compare them.\n",
        "        test_loss = loss_fn(test_pred, y_test.type(torch.float))\n",
        "\n",
        "        # Add data to the lists and print information every tenth epoch\n",
        "        if epoch % 10 == 0:\n",
        "            epoch_count.append(epoch)\n",
        "            train_loss_values.append(loss.detach().numpy())\n",
        "            test_loss_values.append(test_loss.detach().numpy())\n",
        "            print(f\"Epoch: {epoch} | Train Loss (MAE): {loss} | Test Loss (MAE): {test_loss} \")"
      ],
      "metadata": {
        "colab": {
          "base_uri": "https://localhost:8080/"
        },
        "id": "XzsMNawjGpOI",
        "outputId": "50de6ae0-8ac4-45aa-e1ff-419391f0a7a3"
      },
      "execution_count": null,
      "outputs": [
        {
          "output_type": "stream",
          "name": "stdout",
          "text": [
            "Epoch: 0 | Train Loss (MAE): 0.4541979432106018 | Test Loss (MAE): 0.6723175048828125 \n",
            "Epoch: 10 | Train Loss (MAE): 0.33859533071517944 | Test Loss (MAE): 0.536965012550354 \n",
            "Epoch: 20 | Train Loss (MAE): 0.2229928970336914 | Test Loss (MAE): 0.40161246061325073 \n",
            "Epoch: 30 | Train Loss (MAE): 0.11255614459514618 | Test Loss (MAE): 0.27061301469802856 \n",
            "Epoch: 40 | Train Loss (MAE): 0.06832710653543472 | Test Loss (MAE): 0.18864598870277405 \n",
            "Epoch: 50 | Train Loss (MAE): 0.0569041483104229 | Test Loss (MAE): 0.14801186323165894 \n",
            "Epoch: 60 | Train Loss (MAE): 0.052289120852947235 | Test Loss (MAE): 0.12742725014686584 \n",
            "Epoch: 70 | Train Loss (MAE): 0.048731718212366104 | Test Loss (MAE): 0.11531449854373932 \n",
            "Epoch: 80 | Train Loss (MAE): 0.045284587889909744 | Test Loss (MAE): 0.10629091411828995 \n",
            "Epoch: 90 | Train Loss (MAE): 0.04185900092124939 | Test Loss (MAE): 0.09795530885457993 \n"
          ]
        }
      ]
    },
    {
      "cell_type": "markdown",
      "source": [
        "As we see, the loss is lower in each epoch and it hasn't stopped falling down, which means, we could have used more epochs, which we will with the next model.\n",
        "\n",
        "Anyway, let's use the lists we created to visualize the train loss and test loss:"
      ],
      "metadata": {
        "id": "udT0vE4sezIl"
      }
    },
    {
      "cell_type": "code",
      "source": [
        "# Plot the loss curves\n",
        "plt.plot(epoch_count, train_loss_values, label=\"Train loss\")\n",
        "plt.plot(epoch_count, test_loss_values, label=\"Test loss\")\n",
        "plt.title(\"Train and test loss curves\")\n",
        "plt.ylabel(\"Loss\")\n",
        "plt.xlabel(\"Epochs\")\n",
        "plt.legend(prop={\"size\": 15})"
      ],
      "metadata": {
        "colab": {
          "base_uri": "https://localhost:8080/",
          "height": 490
        },
        "id": "9nK3_qP_HMKL",
        "outputId": "712d6e46-71eb-4c78-a691-1febd6d899d9"
      },
      "execution_count": null,
      "outputs": [
        {
          "output_type": "execute_result",
          "data": {
            "text/plain": [
              "<matplotlib.legend.Legend at 0x7a2a9efa36d0>"
            ]
          },
          "metadata": {},
          "execution_count": 16
        },
        {
          "output_type": "display_data",
          "data": {
            "text/plain": [
              "<Figure size 640x480 with 1 Axes>"
            ],
            "image/png": "[encoded data removed]"
          },
          "metadata": {}
        }
      ]
    },
    {
      "cell_type": "markdown",
      "source": [
        "We clearly see the loss is going down with each epoch, which is good. It means the parameters are updated correctly. Let's compare their original and current updated values:"
      ],
      "metadata": {
        "id": "g9lHBdYsRdsR"
      }
    },
    {
      "cell_type": "code",
      "source": [
        "updated_weight = model_0.state_dict()['weights'].item()\n",
        "updated_bias = model_0.state_dict()['bias'].item()\n",
        "\n",
        "parameter_values = pd.DataFrame({'weight': [weight, updated_weight], 'bias': [bias, updated_bias]}, index=['target', 'updated'])\n",
        "parameter_values.T"
      ],
      "metadata": {
        "colab": {
          "base_uri": "https://localhost:8080/",
          "height": 112
        },
        "id": "UFhyq07OSSfj",
        "outputId": "f41ac0c8-6df6-4683-f283-d5595e8193cc"
      },
      "execution_count": null,
      "outputs": [
        {
          "output_type": "execute_result",
          "data": {
            "text/plain": [
              "        target   updated\n",
              "weight     0.8  0.608617\n",
              "bias       0.4  0.480559"
            ],
            "text/html": [
              "\n",
              "  <div id=\"df-b707ce6d-8140-4f57-bc5b-7ab3832268c5\" class=\"colab-df-container\">\n",
              "    <div>\n",
              "<style scoped>\n",
              "    .dataframe tbody tr th:only-of-type {\n",
              "        vertical-align: middle;\n",
              "    }\n",
              "\n",
              "    .dataframe tbody tr th {\n",
              "        vertical-align: top;\n",
              "    }\n",
              "\n",
              "    .dataframe thead th {\n",
              "        text-align: right;\n",
              "    }\n",
              "</style>\n",
              "<table border=\"1\" class=\"dataframe\">\n",
              "  <thead>\n",
              "    <tr style=\"text-align: right;\">\n",
              "      <th></th>\n",
              "      <th>target</th>\n",
              "      <th>updated</th>\n",
              "    </tr>\n",
              "  </thead>\n",
              "  <tbody>\n",
              "    <tr>\n",
              "      <th>weight</th>\n",
              "      <td>0.8</td>\n",
              "      <td>0.608617</td>\n",
              "    </tr>\n",
              "    <tr>\n",
              "      <th>bias</th>\n",
              "      <td>0.4</td>\n",
              "      <td>0.480559</td>\n",
              "    </tr>\n",
              "  </tbody>\n",
              "</table>\n",
              "</div>\n",
              "    <div class=\"colab-df-buttons\">\n",
              "\n",
              "  <div class=\"colab-df-container\">\n",
              "    <button class=\"colab-df-convert\" onclick=\"convertToInteractive('df-b707ce6d-8140-4f57-bc5b-7ab3832268c5')\"\n",
              "            title=\"Convert this dataframe to an interactive table.\"\n",
              "            style=\"display:none;\">\n",
              "\n",
              "  <svg xmlns=\"http://www.w3.org/2000/svg\" height=\"24px\" viewBox=\"0 -960 960 960\">\n",
              "    <path d=\"M120-120v-720h720v720H120Zm60-500h600v-160H180v160Zm220 220h160v-160H400v160Zm0 220h160v-160H400v160ZM180-400h160v-160H180v160Zm440 0h160v-160H620v160ZM180-180h160v-160H180v160Zm440 0h160v-160H620v160Z\"/>\n",
              "  </svg>\n",
              "    </button>\n",
              "\n",
              "  <style>\n",
              "    .colab-df-container {\n",
              "      display:flex;\n",
              "      gap: 12px;\n",
              "    }\n",
              "\n",
              "    .colab-df-convert {\n",
              "      background-color: #E8F0FE;\n",
              "      border: none;\n",
              "      border-radius: 50%;\n",
              "      cursor: pointer;\n",
              "      display: none;\n",
              "      fill: #1967D2;\n",
              "      height: 32px;\n",
              "      padding: 0 0 0 0;\n",
              "      width: 32px;\n",
              "    }\n",
              "\n",
              "    .colab-df-convert:hover {\n",
              "      background-color: #E2EBFA;\n",
              "      box-shadow: 0px 1px 2px rgba(60, 64, 67, 0.3), 0px 1px 3px 1px rgba(60, 64, 67, 0.15);\n",
              "      fill: #174EA6;\n",
              "    }\n",
              "\n",
              "    .colab-df-buttons div {\n",
              "      margin-bottom: 4px;\n",
              "    }\n",
              "\n",
              "    [theme=dark] .colab-df-convert {\n",
              "      background-color: #3B4455;\n",
              "      fill: #D2E3FC;\n",
              "    }\n",
              "\n",
              "    [theme=dark] .colab-df-convert:hover {\n",
              "      background-color: #434B5C;\n",
              "      box-shadow: 0px 1px 3px 1px rgba(0, 0, 0, 0.15);\n",
              "      filter: drop-shadow(0px 1px 2px rgba(0, 0, 0, 0.3));\n",
              "      fill: #FFFFFF;\n",
              "    }\n",
              "  </style>\n",
              "\n",
              "    <script>\n",
              "      const buttonEl =\n",
              "        document.querySelector('#df-b707ce6d-8140-4f57-bc5b-7ab3832268c5 button.colab-df-convert');\n",
              "      buttonEl.style.display =\n",
              "        google.colab.kernel.accessAllowed ? 'block' : 'none';\n",
              "\n",
              "      async function convertToInteractive(key) {\n",
              "        const element = document.querySelector('#df-b707ce6d-8140-4f57-bc5b-7ab3832268c5');\n",
              "        const dataTable =\n",
              "          await google.colab.kernel.invokeFunction('convertToInteractive',\n",
              "                                                    [key], {});\n",
              "        if (!dataTable) return;\n",
              "\n",
              "        const docLinkHtml = 'Like what you see? Visit the ' +\n",
              "          '<a target=\"_blank\" href=https://colab.research.google.com/notebooks/data_table.ipynb>data table notebook</a>'\n",
              "          + ' to learn more about interactive tables.';\n",
              "        element.innerHTML = '';\n",
              "        dataTable['output_type'] = 'display_data';\n",
              "        await google.colab.output.renderOutput(dataTable, element);\n",
              "        const docLink = document.createElement('div');\n",
              "        docLink.innerHTML = docLinkHtml;\n",
              "        element.appendChild(docLink);\n",
              "      }\n",
              "    </script>\n",
              "  </div>\n",
              "\n",
              "\n",
              "<div id=\"df-40ca662d-480b-4817-8c97-1e7b3088daef\">\n",
              "  <button class=\"colab-df-quickchart\" onclick=\"quickchart('df-40ca662d-480b-4817-8c97-1e7b3088daef')\"\n",
              "            title=\"Suggest charts\"\n",
              "            style=\"display:none;\">\n",
              "\n",
              "<svg xmlns=\"http://www.w3.org/2000/svg\" height=\"24px\"viewBox=\"0 0 24 24\"\n",
              "     width=\"24px\">\n",
              "    <g>\n",
              "        <path d=\"M19 3H5c-1.1 0-2 .9-2 2v14c0 1.1.9 2 2 2h14c1.1 0 2-.9 2-2V5c0-1.1-.9-2-2-2zM9 17H7v-7h2v7zm4 0h-2V7h2v10zm4 0h-2v-4h2v4z\"/>\n",
              "    </g>\n",
              "</svg>\n",
              "  </button>\n",
              "\n",
              "<style>\n",
              "  .colab-df-quickchart {\n",
              "      --bg-color: #E8F0FE;\n",
              "      --fill-color: #1967D2;\n",
              "      --hover-bg-color: #E2EBFA;\n",
              "      --hover-fill-color: #174EA6;\n",
              "      --disabled-fill-color: #AAA;\n",
              "      --disabled-bg-color: #DDD;\n",
              "  }\n",
              "\n",
              "  [theme=dark] .colab-df-quickchart {\n",
              "      --bg-color: #3B4455;\n",
              "      --fill-color: #D2E3FC;\n",
              "      --hover-bg-color: #434B5C;\n",
              "      --hover-fill-color: #FFFFFF;\n",
              "      --disabled-bg-color: #3B4455;\n",
              "      --disabled-fill-color: #666;\n",
              "  }\n",
              "\n",
              "  .colab-df-quickchart {\n",
              "    background-color: var(--bg-color);\n",
              "    border: none;\n",
              "    border-radius: 50%;\n",
              "    cursor: pointer;\n",
              "    display: none;\n",
              "    fill: var(--fill-color);\n",
              "    height: 32px;\n",
              "    padding: 0;\n",
              "    width: 32px;\n",
              "  }\n",
              "\n",
              "  .colab-df-quickchart:hover {\n",
              "    background-color: var(--hover-bg-color);\n",
              "    box-shadow: 0 1px 2px rgba(60, 64, 67, 0.3), 0 1px 3px 1px rgba(60, 64, 67, 0.15);\n",
              "    fill: var(--button-hover-fill-color);\n",
              "  }\n",
              "\n",
              "  .colab-df-quickchart-complete:disabled,\n",
              "  .colab-df-quickchart-complete:disabled:hover {\n",
              "    background-color: var(--disabled-bg-color);\n",
              "    fill: var(--disabled-fill-color);\n",
              "    box-shadow: none;\n",
              "  }\n",
              "\n",
              "  .colab-df-spinner {\n",
              "    border: 2px solid var(--fill-color);\n",
              "    border-color: transparent;\n",
              "    border-bottom-color: var(--fill-color);\n",
              "    animation:\n",
              "      spin 1s steps(1) infinite;\n",
              "  }\n",
              "\n",
              "  @keyframes spin {\n",
              "    0% {\n",
              "      border-color: transparent;\n",
              "      border-bottom-color: var(--fill-color);\n",
              "      border-left-color: var(--fill-color);\n",
              "    }\n",
              "    20% {\n",
              "      border-color: transparent;\n",
              "      border-left-color: var(--fill-color);\n",
              "      border-top-color: var(--fill-color);\n",
              "    }\n",
              "    30% {\n",
              "      border-color: transparent;\n",
              "      border-left-color: var(--fill-color);\n",
              "      border-top-color: var(--fill-color);\n",
              "      border-right-color: var(--fill-color);\n",
              "    }\n",
              "    40% {\n",
              "      border-color: transparent;\n",
              "      border-right-color: var(--fill-color);\n",
              "      border-top-color: var(--fill-color);\n",
              "    }\n",
              "    60% {\n",
              "      border-color: transparent;\n",
              "      border-right-color: var(--fill-color);\n",
              "    }\n",
              "    80% {\n",
              "      border-color: transparent;\n",
              "      border-right-color: var(--fill-color);\n",
              "      border-bottom-color: var(--fill-color);\n",
              "    }\n",
              "    90% {\n",
              "      border-color: transparent;\n",
              "      border-bottom-color: var(--fill-color);\n",
              "    }\n",
              "  }\n",
              "</style>\n",
              "\n",
              "  <script>\n",
              "    async function quickchart(key) {\n",
              "      const quickchartButtonEl =\n",
              "        document.querySelector('#' + key + ' button');\n",
              "      quickchartButtonEl.disabled = true;  // To prevent multiple clicks.\n",
              "      quickchartButtonEl.classList.add('colab-df-spinner');\n",
              "      try {\n",
              "        const charts = await google.colab.kernel.invokeFunction(\n",
              "            'suggestCharts', [key], {});\n",
              "      } catch (error) {\n",
              "        console.error('Error during call to suggestCharts:', error);\n",
              "      }\n",
              "      quickchartButtonEl.classList.remove('colab-df-spinner');\n",
              "      quickchartButtonEl.classList.add('colab-df-quickchart-complete');\n",
              "    }\n",
              "    (() => {\n",
              "      let quickchartButtonEl =\n",
              "        document.querySelector('#df-40ca662d-480b-4817-8c97-1e7b3088daef button');\n",
              "      quickchartButtonEl.style.display =\n",
              "        google.colab.kernel.accessAllowed ? 'block' : 'none';\n",
              "    })();\n",
              "  </script>\n",
              "</div>\n",
              "\n",
              "    </div>\n",
              "  </div>\n"
            ],
            "application/vnd.google.colaboratory.intrinsic+json": {
              "type": "dataframe",
              "summary": "{\n  \"name\": \"parameter_values\",\n  \"rows\": 2,\n  \"fields\": [\n    {\n      \"column\": \"target\",\n      \"properties\": {\n        \"dtype\": \"number\",\n        \"std\": 0.28284271247461906,\n        \"min\": 0.4,\n        \"max\": 0.8,\n        \"num_unique_values\": 2,\n        \"samples\": [\n          0.4,\n          0.8\n        ],\n        \"semantic_type\": \"\",\n        \"description\": \"\"\n      }\n    },\n    {\n      \"column\": \"updated\",\n      \"properties\": {\n        \"dtype\": \"number\",\n        \"std\": 0.09055069171116986,\n        \"min\": 0.48055917024612427,\n        \"max\": 0.6086171865463257,\n        \"num_unique_values\": 2,\n        \"samples\": [\n          0.48055917024612427,\n          0.6086171865463257\n        ],\n        \"semantic_type\": \"\",\n        \"description\": \"\"\n      }\n    }\n  ]\n}"
            }
          },
          "metadata": {},
          "execution_count": 29
        }
      ]
    },
    {
      "cell_type": "markdown",
      "source": [
        "If you remember, the random values of the parameters were very far from the values we originally set (0.8 and 0.4 respectively). They were:\n",
        "\n",
        "`OrderedDict([('weights', tensor([0.3367])), ('bias', tensor([0.1288]))])`\n",
        "\n",
        "Now, after 100 epochs of training they're 0.608 and 0.481 respectively, which is much closer to the target values we set. This means the training was successful, although it doesn't mean we can't do better.\n",
        "\n",
        "Let's evaluate the model now."
      ],
      "metadata": {
        "id": "0aO--o03Uw5T"
      }
    },
    {
      "cell_type": "markdown",
      "source": [
        "## Model Evaluation"
      ],
      "metadata": {
        "id": "cdWQ-HEHWGuc"
      }
    },
    {
      "cell_type": "markdown",
      "source": [
        "We have a trained model, so let's see how well it performs. To evaluate a model, we have to set it in evaluation mode and make the predictions using the `torch.inference_mode` context manager:"
      ],
      "metadata": {
        "id": "91fg4Nr7WNuB"
      }
    },
    {
      "cell_type": "code",
      "source": [
        "# 1. Set the model in evaluation mode.\n",
        "model_0.eval()\n",
        "\n",
        "# 2. Make predictions using the inference mode context manager.\n",
        "with torch.inference_mode():\n",
        "  y_preds = model_0(X_test)\n",
        "y_preds"
      ],
      "metadata": {
        "colab": {
          "base_uri": "https://localhost:8080/"
        },
        "id": "MS4Jd_YwH6Ws",
        "outputId": "1333201b-5fb8-4ee5-c3ae-42789506966b"
      },
      "execution_count": null,
      "outputs": [
        {
          "output_type": "execute_result",
          "data": {
            "text/plain": [
              "tensor([[0.9675],\n",
              "        [0.9735],\n",
              "        [0.9796],\n",
              "        [0.9857],\n",
              "        [0.9918],\n",
              "        [0.9979],\n",
              "        [1.0040],\n",
              "        [1.0101],\n",
              "        [1.0161],\n",
              "        [1.0222],\n",
              "        [1.0283],\n",
              "        [1.0344],\n",
              "        [1.0405],\n",
              "        [1.0466],\n",
              "        [1.0527],\n",
              "        [1.0587],\n",
              "        [1.0648],\n",
              "        [1.0709],\n",
              "        [1.0770],\n",
              "        [1.0831]])"
            ]
          },
          "metadata": {},
          "execution_count": 30
        }
      ]
    },
    {
      "cell_type": "markdown",
      "source": [
        "Just like before, let's visualize the results:"
      ],
      "metadata": {
        "id": "ArD6Glve20wv"
      }
    },
    {
      "cell_type": "code",
      "source": [
        "plot_predictions(predictions=y_preds)"
      ],
      "metadata": {
        "colab": {
          "base_uri": "https://localhost:8080/",
          "height": 522
        },
        "id": "b9CL2m0gMf8r",
        "outputId": "ebf9a954-500f-4fb7-95a4-acd21401278d"
      },
      "execution_count": null,
      "outputs": [
        {
          "output_type": "display_data",
          "data": {
            "text/plain": [
              "<Figure size 1200x600 with 1 Axes>"
            ],
            "image/png": "[encoded data removed]"
          },
          "metadata": {}
        }
      ]
    },
    {
      "cell_type": "markdown",
      "source": [
        "Great, the predictions (red dots) are much closer to the true values (green dots) than before. This means the model performs much better than when the parameters were set to random values. But there's still room for improvement. Let's train the model for another 100 epochs:"
      ],
      "metadata": {
        "id": "UbajdSuY29j_"
      }
    },
    {
      "cell_type": "code",
      "source": [
        "torch.manual_seed(42)\n",
        "epochs = 100\n",
        "train_loss_values = []\n",
        "test_loss_values = []\n",
        "epoch_count = []\n",
        "\n",
        "for epoch in range(epochs):\n",
        "    model_0.train()\n",
        "    y_pred = model_0(X_train)\n",
        "    loss = loss_fn(y_pred, y_train)\n",
        "    optimizer.zero_grad()\n",
        "    loss.backward()\n",
        "    optimizer.step()\n",
        "\n",
        "    model_0.eval()\n",
        "    with torch.inference_mode():\n",
        "        test_pred = model_0(X_test)\n",
        "        test_loss = loss_fn(test_pred, y_test.type(torch.float))\n",
        "        if epoch % 10 == 0:\n",
        "            epoch_count.append(epoch)\n",
        "            train_loss_values.append(loss.detach().numpy())\n",
        "            test_loss_values.append(test_loss.detach().numpy())\n",
        "            print(f\"Epoch: {epoch} | Train Loss (MAE): {loss} | Test Loss (MAE): {test_loss} \")"
      ],
      "metadata": {
        "colab": {
          "base_uri": "https://localhost:8080/"
        },
        "id": "fL5JIBBr3iwf",
        "outputId": "aabad5a9-4e3e-4b0a-baee-0606c32f090b"
      },
      "execution_count": null,
      "outputs": [
        {
          "output_type": "stream",
          "name": "stdout",
          "text": [
            "Epoch: 0 | Train Loss (MAE): 0.03843348100781441 | Test Loss (MAE): 0.08996371924877167 \n",
            "Epoch: 10 | Train Loss (MAE): 0.03500743955373764 | Test Loss (MAE): 0.08197212964296341 \n",
            "Epoch: 20 | Train Loss (MAE): 0.0315818190574646 | Test Loss (MAE): 0.0736365094780922 \n",
            "Epoch: 30 | Train Loss (MAE): 0.028156336396932602 | Test Loss (MAE): 0.06564490497112274 \n",
            "Epoch: 40 | Train Loss (MAE): 0.024730294942855835 | Test Loss (MAE): 0.057653315365314484 \n",
            "Epoch: 50 | Train Loss (MAE): 0.02130463346838951 | Test Loss (MAE): 0.049317698925733566 \n",
            "Epoch: 60 | Train Loss (MAE): 0.017879191786050797 | Test Loss (MAE): 0.041326116770505905 \n",
            "Epoch: 70 | Train Loss (MAE): 0.01445315033197403 | Test Loss (MAE): 0.03333451598882675 \n",
            "Epoch: 80 | Train Loss (MAE): 0.01102745346724987 | Test Loss (MAE): 0.024998921900987625 \n",
            "Epoch: 90 | Train Loss (MAE): 0.0076020522974431515 | Test Loss (MAE): 0.017007315531373024 \n"
          ]
        }
      ]
    },
    {
      "cell_type": "markdown",
      "source": [
        "The loss is even lower now, after the 200 epochs altogether. Let's visualize it again:"
      ],
      "metadata": {
        "id": "IcoZWg0l4FwA"
      }
    },
    {
      "cell_type": "code",
      "source": [
        "# Plot the loss curves\n",
        "plt.plot(epoch_count, train_loss_values, label=\"Train loss\")\n",
        "plt.plot(epoch_count, test_loss_values, label=\"Test loss\")\n",
        "plt.title(\"Train and test loss curves\")\n",
        "plt.ylabel(\"Loss\")\n",
        "plt.xlabel(\"Epochs\")\n",
        "plt.legend(prop={\"size\": 15})"
      ],
      "metadata": {
        "colab": {
          "base_uri": "https://localhost:8080/",
          "height": 490
        },
        "id": "DgtuOx7f4OLI",
        "outputId": "0db541b0-a38a-4ae9-8c09-0f25f9fdc186"
      },
      "execution_count": null,
      "outputs": [
        {
          "output_type": "execute_result",
          "data": {
            "text/plain": [
              "<matplotlib.legend.Legend at 0x7a2a987bca50>"
            ]
          },
          "metadata": {},
          "execution_count": 33
        },
        {
          "output_type": "display_data",
          "data": {
            "text/plain": [
              "<Figure size 640x480 with 1 Axes>"
            ],
            "image/png": "[encoded data removed]"
          },
          "metadata": {}
        }
      ]
    },
    {
      "cell_type": "markdown",
      "source": [
        "As we can see, the loss was dropping linearly between the 100th and 200th epochs."
      ],
      "metadata": {
        "id": "irop3nLL4bdw"
      }
    },
    {
      "cell_type": "markdown",
      "source": [
        "Let's check out the parameters again:"
      ],
      "metadata": {
        "id": "eS8k9lyq4v5C"
      }
    },
    {
      "cell_type": "code",
      "source": [
        "updated_weight = model_0.state_dict()['weights'].item()\n",
        "updated_bias = model_0.state_dict()['bias'].item()\n",
        "\n",
        "parameter_values = pd.DataFrame({'weight': [weight, updated_weight], 'bias': [bias, updated_bias]}, index=['target', 'updated'])\n",
        "parameter_values.T"
      ],
      "metadata": {
        "colab": {
          "base_uri": "https://localhost:8080/",
          "height": 112
        },
        "id": "y0wORi_s4s3f",
        "outputId": "df7c4cbe-f784-4219-efd5-b554666161b0"
      },
      "execution_count": null,
      "outputs": [
        {
          "output_type": "execute_result",
          "data": {
            "text/plain": [
              "        target   updated\n",
              "weight     0.8  0.779230\n",
              "bias       0.4  0.408809"
            ],
            "text/html": [
              "\n",
              "  <div id=\"df-77168bb8-2402-4352-a6dd-68c001ec92e7\" class=\"colab-df-container\">\n",
              "    <div>\n",
              "<style scoped>\n",
              "    .dataframe tbody tr th:only-of-type {\n",
              "        vertical-align: middle;\n",
              "    }\n",
              "\n",
              "    .dataframe tbody tr th {\n",
              "        vertical-align: top;\n",
              "    }\n",
              "\n",
              "    .dataframe thead th {\n",
              "        text-align: right;\n",
              "    }\n",
              "</style>\n",
              "<table border=\"1\" class=\"dataframe\">\n",
              "  <thead>\n",
              "    <tr style=\"text-align: right;\">\n",
              "      <th></th>\n",
              "      <th>target</th>\n",
              "      <th>updated</th>\n",
              "    </tr>\n",
              "  </thead>\n",
              "  <tbody>\n",
              "    <tr>\n",
              "      <th>weight</th>\n",
              "      <td>0.8</td>\n",
              "      <td>0.779230</td>\n",
              "    </tr>\n",
              "    <tr>\n",
              "      <th>bias</th>\n",
              "      <td>0.4</td>\n",
              "      <td>0.408809</td>\n",
              "    </tr>\n",
              "  </tbody>\n",
              "</table>\n",
              "</div>\n",
              "    <div class=\"colab-df-buttons\">\n",
              "\n",
              "  <div class=\"colab-df-container\">\n",
              "    <button class=\"colab-df-convert\" onclick=\"convertToInteractive('df-77168bb8-2402-4352-a6dd-68c001ec92e7')\"\n",
              "            title=\"Convert this dataframe to an interactive table.\"\n",
              "            style=\"display:none;\">\n",
              "\n",
              "  <svg xmlns=\"http://www.w3.org/2000/svg\" height=\"24px\" viewBox=\"0 -960 960 960\">\n",
              "    <path d=\"M120-120v-720h720v720H120Zm60-500h600v-160H180v160Zm220 220h160v-160H400v160Zm0 220h160v-160H400v160ZM180-400h160v-160H180v160Zm440 0h160v-160H620v160ZM180-180h160v-160H180v160Zm440 0h160v-160H620v160Z\"/>\n",
              "  </svg>\n",
              "    </button>\n",
              "\n",
              "  <style>\n",
              "    .colab-df-container {\n",
              "      display:flex;\n",
              "      gap: 12px;\n",
              "    }\n",
              "\n",
              "    .colab-df-convert {\n",
              "      background-color: #E8F0FE;\n",
              "      border: none;\n",
              "      border-radius: 50%;\n",
              "      cursor: pointer;\n",
              "      display: none;\n",
              "      fill: #1967D2;\n",
              "      height: 32px;\n",
              "      padding: 0 0 0 0;\n",
              "      width: 32px;\n",
              "    }\n",
              "\n",
              "    .colab-df-convert:hover {\n",
              "      background-color: #E2EBFA;\n",
              "      box-shadow: 0px 1px 2px rgba(60, 64, 67, 0.3), 0px 1px 3px 1px rgba(60, 64, 67, 0.15);\n",
              "      fill: #174EA6;\n",
              "    }\n",
              "\n",
              "    .colab-df-buttons div {\n",
              "      margin-bottom: 4px;\n",
              "    }\n",
              "\n",
              "    [theme=dark] .colab-df-convert {\n",
              "      background-color: #3B4455;\n",
              "      fill: #D2E3FC;\n",
              "    }\n",
              "\n",
              "    [theme=dark] .colab-df-convert:hover {\n",
              "      background-color: #434B5C;\n",
              "      box-shadow: 0px 1px 3px 1px rgba(0, 0, 0, 0.15);\n",
              "      filter: drop-shadow(0px 1px 2px rgba(0, 0, 0, 0.3));\n",
              "      fill: #FFFFFF;\n",
              "    }\n",
              "  </style>\n",
              "\n",
              "    <script>\n",
              "      const buttonEl =\n",
              "        document.querySelector('#df-77168bb8-2402-4352-a6dd-68c001ec92e7 button.colab-df-convert');\n",
              "      buttonEl.style.display =\n",
              "        google.colab.kernel.accessAllowed ? 'block' : 'none';\n",
              "\n",
              "      async function convertToInteractive(key) {\n",
              "        const element = document.querySelector('#df-77168bb8-2402-4352-a6dd-68c001ec92e7');\n",
              "        const dataTable =\n",
              "          await google.colab.kernel.invokeFunction('convertToInteractive',\n",
              "                                                    [key], {});\n",
              "        if (!dataTable) return;\n",
              "\n",
              "        const docLinkHtml = 'Like what you see? Visit the ' +\n",
              "          '<a target=\"_blank\" href=https://colab.research.google.com/notebooks/data_table.ipynb>data table notebook</a>'\n",
              "          + ' to learn more about interactive tables.';\n",
              "        element.innerHTML = '';\n",
              "        dataTable['output_type'] = 'display_data';\n",
              "        await google.colab.output.renderOutput(dataTable, element);\n",
              "        const docLink = document.createElement('div');\n",
              "        docLink.innerHTML = docLinkHtml;\n",
              "        element.appendChild(docLink);\n",
              "      }\n",
              "    </script>\n",
              "  </div>\n",
              "\n",
              "\n",
              "<div id=\"df-38b04921-dfb2-4905-9c70-fd72538e6d3e\">\n",
              "  <button class=\"colab-df-quickchart\" onclick=\"quickchart('df-38b04921-dfb2-4905-9c70-fd72538e6d3e')\"\n",
              "            title=\"Suggest charts\"\n",
              "            style=\"display:none;\">\n",
              "\n",
              "<svg xmlns=\"http://www.w3.org/2000/svg\" height=\"24px\"viewBox=\"0 0 24 24\"\n",
              "     width=\"24px\">\n",
              "    <g>\n",
              "        <path d=\"M19 3H5c-1.1 0-2 .9-2 2v14c0 1.1.9 2 2 2h14c1.1 0 2-.9 2-2V5c0-1.1-.9-2-2-2zM9 17H7v-7h2v7zm4 0h-2V7h2v10zm4 0h-2v-4h2v4z\"/>\n",
              "    </g>\n",
              "</svg>\n",
              "  </button>\n",
              "\n",
              "<style>\n",
              "  .colab-df-quickchart {\n",
              "      --bg-color: #E8F0FE;\n",
              "      --fill-color: #1967D2;\n",
              "      --hover-bg-color: #E2EBFA;\n",
              "      --hover-fill-color: #174EA6;\n",
              "      --disabled-fill-color: #AAA;\n",
              "      --disabled-bg-color: #DDD;\n",
              "  }\n",
              "\n",
              "  [theme=dark] .colab-df-quickchart {\n",
              "      --bg-color: #3B4455;\n",
              "      --fill-color: #D2E3FC;\n",
              "      --hover-bg-color: #434B5C;\n",
              "      --hover-fill-color: #FFFFFF;\n",
              "      --disabled-bg-color: #3B4455;\n",
              "      --disabled-fill-color: #666;\n",
              "  }\n",
              "\n",
              "  .colab-df-quickchart {\n",
              "    background-color: var(--bg-color);\n",
              "    border: none;\n",
              "    border-radius: 50%;\n",
              "    cursor: pointer;\n",
              "    display: none;\n",
              "    fill: var(--fill-color);\n",
              "    height: 32px;\n",
              "    padding: 0;\n",
              "    width: 32px;\n",
              "  }\n",
              "\n",
              "  .colab-df-quickchart:hover {\n",
              "    background-color: var(--hover-bg-color);\n",
              "    box-shadow: 0 1px 2px rgba(60, 64, 67, 0.3), 0 1px 3px 1px rgba(60, 64, 67, 0.15);\n",
              "    fill: var(--button-hover-fill-color);\n",
              "  }\n",
              "\n",
              "  .colab-df-quickchart-complete:disabled,\n",
              "  .colab-df-quickchart-complete:disabled:hover {\n",
              "    background-color: var(--disabled-bg-color);\n",
              "    fill: var(--disabled-fill-color);\n",
              "    box-shadow: none;\n",
              "  }\n",
              "\n",
              "  .colab-df-spinner {\n",
              "    border: 2px solid var(--fill-color);\n",
              "    border-color: transparent;\n",
              "    border-bottom-color: var(--fill-color);\n",
              "    animation:\n",
              "      spin 1s steps(1) infinite;\n",
              "  }\n",
              "\n",
              "  @keyframes spin {\n",
              "    0% {\n",
              "      border-color: transparent;\n",
              "      border-bottom-color: var(--fill-color);\n",
              "      border-left-color: var(--fill-color);\n",
              "    }\n",
              "    20% {\n",
              "      border-color: transparent;\n",
              "      border-left-color: var(--fill-color);\n",
              "      border-top-color: var(--fill-color);\n",
              "    }\n",
              "    30% {\n",
              "      border-color: transparent;\n",
              "      border-left-color: var(--fill-color);\n",
              "      border-top-color: var(--fill-color);\n",
              "      border-right-color: var(--fill-color);\n",
              "    }\n",
              "    40% {\n",
              "      border-color: transparent;\n",
              "      border-right-color: var(--fill-color);\n",
              "      border-top-color: var(--fill-color);\n",
              "    }\n",
              "    60% {\n",
              "      border-color: transparent;\n",
              "      border-right-color: var(--fill-color);\n",
              "    }\n",
              "    80% {\n",
              "      border-color: transparent;\n",
              "      border-right-color: var(--fill-color);\n",
              "      border-bottom-color: var(--fill-color);\n",
              "    }\n",
              "    90% {\n",
              "      border-color: transparent;\n",
              "      border-bottom-color: var(--fill-color);\n",
              "    }\n",
              "  }\n",
              "</style>\n",
              "\n",
              "  <script>\n",
              "    async function quickchart(key) {\n",
              "      const quickchartButtonEl =\n",
              "        document.querySelector('#' + key + ' button');\n",
              "      quickchartButtonEl.disabled = true;  // To prevent multiple clicks.\n",
              "      quickchartButtonEl.classList.add('colab-df-spinner');\n",
              "      try {\n",
              "        const charts = await google.colab.kernel.invokeFunction(\n",
              "            'suggestCharts', [key], {});\n",
              "      } catch (error) {\n",
              "        console.error('Error during call to suggestCharts:', error);\n",
              "      }\n",
              "      quickchartButtonEl.classList.remove('colab-df-spinner');\n",
              "      quickchartButtonEl.classList.add('colab-df-quickchart-complete');\n",
              "    }\n",
              "    (() => {\n",
              "      let quickchartButtonEl =\n",
              "        document.querySelector('#df-38b04921-dfb2-4905-9c70-fd72538e6d3e button');\n",
              "      quickchartButtonEl.style.display =\n",
              "        google.colab.kernel.accessAllowed ? 'block' : 'none';\n",
              "    })();\n",
              "  </script>\n",
              "</div>\n",
              "\n",
              "    </div>\n",
              "  </div>\n"
            ],
            "application/vnd.google.colaboratory.intrinsic+json": {
              "type": "dataframe",
              "summary": "{\n  \"name\": \"parameter_values\",\n  \"rows\": 2,\n  \"fields\": [\n    {\n      \"column\": \"target\",\n      \"properties\": {\n        \"dtype\": \"number\",\n        \"std\": 0.28284271247461906,\n        \"min\": 0.4,\n        \"max\": 0.8,\n        \"num_unique_values\": 2,\n        \"samples\": [\n          0.4,\n          0.8\n        ],\n        \"semantic_type\": \"\",\n        \"description\": \"\"\n      }\n    },\n    {\n      \"column\": \"updated\",\n      \"properties\": {\n        \"dtype\": \"number\",\n        \"std\": 0.2619272588220757,\n        \"min\": 0.40880879759788513,\n        \"max\": 0.7792298793792725,\n        \"num_unique_values\": 2,\n        \"samples\": [\n          0.40880879759788513,\n          0.7792298793792725\n        ],\n        \"semantic_type\": \"\",\n        \"description\": \"\"\n      }\n    }\n  ]\n}"
            }
          },
          "metadata": {},
          "execution_count": 34
        }
      ]
    },
    {
      "cell_type": "markdown",
      "source": [
        "The updated values are much closer to the target values. Let's evaluate the model again:"
      ],
      "metadata": {
        "id": "_oKF7-rb43Wa"
      }
    },
    {
      "cell_type": "code",
      "source": [
        "model_0.eval()\n",
        "\n",
        "with torch.inference_mode():\n",
        "  y_preds = model_0(X_test)\n",
        "y_preds"
      ],
      "metadata": {
        "colab": {
          "base_uri": "https://localhost:8080/"
        },
        "id": "lIr6VG6P4tQM",
        "outputId": "1682deda-abfa-4cb3-b705-cb4d7666284a"
      },
      "execution_count": null,
      "outputs": [
        {
          "output_type": "execute_result",
          "data": {
            "text/plain": [
              "tensor([[1.0322],\n",
              "        [1.0400],\n",
              "        [1.0478],\n",
              "        [1.0556],\n",
              "        [1.0634],\n",
              "        [1.0712],\n",
              "        [1.0789],\n",
              "        [1.0867],\n",
              "        [1.0945],\n",
              "        [1.1023],\n",
              "        [1.1101],\n",
              "        [1.1179],\n",
              "        [1.1257],\n",
              "        [1.1335],\n",
              "        [1.1413],\n",
              "        [1.1491],\n",
              "        [1.1569],\n",
              "        [1.1647],\n",
              "        [1.1725],\n",
              "        [1.1802]])"
            ]
          },
          "metadata": {},
          "execution_count": 35
        }
      ]
    },
    {
      "cell_type": "markdown",
      "source": [
        "And let's visualize the results too:"
      ],
      "metadata": {
        "id": "WBmUaxY45Oca"
      }
    },
    {
      "cell_type": "code",
      "source": [
        "plot_predictions(predictions=y_preds)"
      ],
      "metadata": {
        "colab": {
          "base_uri": "https://localhost:8080/",
          "height": 522
        },
        "id": "r8cfMjvP4tab",
        "outputId": "71f02921-7f7d-46ee-ef1d-dde4c55c0801"
      },
      "execution_count": null,
      "outputs": [
        {
          "output_type": "display_data",
          "data": {
            "text/plain": [
              "<Figure size 1200x600 with 1 Axes>"
            ],
            "image/png": "[encoded data removed]"
          },
          "metadata": {}
        }
      ]
    },
    {
      "cell_type": "markdown",
      "source": [
        "Now, the predictions are even closer. So, training the model for another 100 epochs was a good decision. We would have gotten the same results if we had trained the model for 200 epochs in the first place."
      ],
      "metadata": {
        "id": "Mjw4K-Da5aGK"
      }
    },
    {
      "cell_type": "markdown",
      "source": [
        "So, we have a pretty good model. Let's save it so that we don't have to repeat all the steps the next time we need the model. Here, with our tiny dataset, it wouldn't be a big problem, but larger datasets take much longer to train the model."
      ],
      "metadata": {
        "id": "bUThXYf55pns"
      }
    },
    {
      "cell_type": "markdown",
      "source": [
        "## Saving and Loading the Model"
      ],
      "metadata": {
        "id": "GYAph_Qi5_eq"
      }
    },
    {
      "cell_type": "markdown",
      "source": [
        "We have our parameters calculated, they seem pretty good, so it would be a good idea to save them somehow. We can save either the entire model or just the parameter dictionary. The recommended way for saving and loading models is by saving just the `state_dict`, and this is what are going to do here.\n",
        "\n",
        "In general, there are three methods that we use to save and load models. These are:\n",
        "\n",
        "- `torch.save` - used to save a pickled (serialized using the `pickle` tool) object to disk; the object may be a model, a tensor, a dictionary, etc.,\n",
        "- `torch.load` - used to deserialize a pickled object,\n",
        "- `torch.nn.Module.load_state_dict` - used to load a model's parameter dictionary (`state_dict`)."
      ],
      "metadata": {
        "id": "_AUPmgkBOdq_"
      }
    },
    {
      "cell_type": "markdown",
      "source": [
        "### Saving the Parameter Dictionary"
      ],
      "metadata": {
        "id": "K-54OluJR_Y1"
      }
    },
    {
      "cell_type": "markdown",
      "source": [
        "We'll create a folder called models to store our models and save the model there:"
      ],
      "metadata": {
        "id": "V2XioPyhQcrf"
      }
    },
    {
      "cell_type": "code",
      "source": [],
      "metadata": {
        "id": "RvNou8eyR-tO"
      },
      "execution_count": null,
      "outputs": []
    },
    {
      "cell_type": "code",
      "source": [
        "from pathlib import Path\n",
        "\n",
        "# 1. Create the models folder.\n",
        "MODELS_FOLDER = Path(\"models\")\n",
        "MODELS_FOLDER.mkdir(parents=True, exist_ok=True)\n",
        "\n",
        "# 2. Create the model's save path.\n",
        "MODEL_NAME = \"linear_legression_model_0.pth\"\n",
        "MODEL_SAVE_PATH = MODELS_FOLDER / MODEL_NAME\n",
        "\n",
        "# 3. Save the model's parameter dictionary\n",
        "print(f\"Saving model to: {MODEL_SAVE_PATH}\")\n",
        "torch.save(obj=model_0.state_dict(), f=MODEL_SAVE_PATH)"
      ],
      "metadata": {
        "colab": {
          "base_uri": "https://localhost:8080/"
        },
        "id": "Ui0CrD-uNgRG",
        "outputId": "3a28c785-92d0-4ed8-dfd6-c55abe0ce993"
      },
      "execution_count": null,
      "outputs": [
        {
          "output_type": "stream",
          "name": "stdout",
          "text": [
            "Saving model to: models/linear_legression_model_0.pth\n"
          ]
        }
      ]
    },
    {
      "cell_type": "markdown",
      "source": [
        "If you now open the Files tab in Colab, you will see the new folder and the file in it:\n",
        "\n",
        "![image.png](data:image/png;base64,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)"
      ],
      "metadata": {
        "id": "1V9PBtAcRlZt"
      }
    },
    {
      "cell_type": "markdown",
      "source": [
        "The parameter dictionary is saved. We can now create a new model instance and instantiate it with the data saved in the dictionary."
      ],
      "metadata": {
        "id": "ITPKg4siSHjV"
      }
    },
    {
      "cell_type": "markdown",
      "source": [
        "### Loading the Parameter Dictionary"
      ],
      "metadata": {
        "id": "8gN-c5xYSSW4"
      }
    },
    {
      "cell_type": "markdown",
      "source": [
        "We only saved the parameter dictionary, not the entire model, so we have to load it and pass it to the new instance of the model:"
      ],
      "metadata": {
        "id": "qPo-8G1JSV02"
      }
    },
    {
      "cell_type": "code",
      "source": [
        "# Create a new instance of the model.\n",
        "model_1 = LinearRegressionModel()\n",
        "\n",
        "# Load the parameter dictionary and pass it to the new instance of the model.\n",
        "model_1.load_state_dict(torch.load(f=MODEL_SAVE_PATH))"
      ],
      "metadata": {
        "colab": {
          "base_uri": "https://localhost:8080/"
        },
        "id": "q4toSdn6NppG",
        "outputId": "067c791c-9bc0-43c5-ed2d-456a5363b172"
      },
      "execution_count": null,
      "outputs": [
        {
          "output_type": "stream",
          "name": "stderr",
          "text": [
            "<ipython-input-39-a2658a505f3d>:5: FutureWarning: You are using `torch.load` with `weights_only=False` (the current default value), which uses the default pickle module implicitly. It is possible to construct malicious pickle data which will execute arbitrary code during unpickling (See https://github.com/pytorch/pytorch/blob/main/SECURITY.md#untrusted-models for more details). In a future release, the default value for `weights_only` will be flipped to `True`. This limits the functions that could be executed during unpickling. Arbitrary objects will no longer be allowed to be loaded via this mode unless they are explicitly allowlisted by the user via `torch.serialization.add_safe_globals`. We recommend you start setting `weights_only=True` for any use case where you don't have full control of the loaded file. Please open an issue on GitHub for any issues related to this experimental feature.\n",
            "  model_1.load_state_dict(torch.load(f=MODEL_SAVE_PATH))\n"
          ]
        },
        {
          "output_type": "execute_result",
          "data": {
            "text/plain": [
              "<All keys matched successfully>"
            ]
          },
          "metadata": {},
          "execution_count": 39
        }
      ]
    },
    {
      "cell_type": "markdown",
      "source": [
        "Looks like it worked. But why not check it out? The new instance of the model, `model_1`, has now the same parameter values:"
      ],
      "metadata": {
        "id": "4l2ggN-SXu0I"
      }
    },
    {
      "cell_type": "code",
      "source": [
        "model_1.eval()\n",
        "\n",
        "with torch.inference_mode():\n",
        "    model_1_preds = model_1(X_test)"
      ],
      "metadata": {
        "id": "ZYnFozwwPKN2"
      },
      "execution_count": null,
      "outputs": []
    },
    {
      "cell_type": "markdown",
      "source": [
        "Now we can compare the previous predictions with the predictions of the new model instance. The two model instances use the same values for weight and bias, so the predictions should be identical:"
      ],
      "metadata": {
        "id": "KF9NlGNfYIeZ"
      }
    },
    {
      "cell_type": "code",
      "source": [
        "y_preds == model_1_preds"
      ],
      "metadata": {
        "colab": {
          "base_uri": "https://localhost:8080/"
        },
        "id": "33uyXsAGPVeX",
        "outputId": "0620835f-24ed-4ebc-ad0d-925403df51f6"
      },
      "execution_count": null,
      "outputs": [
        {
          "output_type": "execute_result",
          "data": {
            "text/plain": [
              "tensor([[True],\n",
              "        [True],\n",
              "        [True],\n",
              "        [True],\n",
              "        [True],\n",
              "        [True],\n",
              "        [True],\n",
              "        [True],\n",
              "        [True],\n",
              "        [True],\n",
              "        [True],\n",
              "        [True],\n",
              "        [True],\n",
              "        [True],\n",
              "        [True],\n",
              "        [True],\n",
              "        [True],\n",
              "        [True],\n",
              "        [True],\n",
              "        [True]])"
            ]
          },
          "metadata": {},
          "execution_count": 41
        }
      ]
    },
    {
      "cell_type": "markdown",
      "source": [
        "And so they are. This means that our model (or rather its parameter dictionary) was saved and loaded correctly.\n",
        "\n",
        "We're done. We have a working model, saved to the disk. We can use it in another notebook or in an application.\n",
        "\n",
        "To recapitulate, though, in a more concise way, we'll follow all the steps again to create yet another instance of the model, with some minor changes this time in order to demonstrate how to create a model without explicitly specifying the parameters and creating a simple neural network instead."
      ],
      "metadata": {
        "id": "k6LSGn42Yd3x"
      }
    },
    {
      "cell_type": "markdown",
      "source": [
        "## Recreating the Model Using a Simple Neural Network"
      ],
      "metadata": {
        "id": "_H3jPKn9ZVj2"
      }
    },
    {
      "cell_type": "markdown",
      "source": [
        "To practice the typical workflow for linear regression models with PyTorch, let's recreate all the steps in a more concise manner, so without all those verbose comments, and with some minor changes here and there."
      ],
      "metadata": {
        "id": "Sn8cFG4xh-x0"
      }
    },
    {
      "cell_type": "markdown",
      "source": [
        "### Data Preparation"
      ],
      "metadata": {
        "id": "6G0p0zgclUh9"
      }
    },
    {
      "cell_type": "markdown",
      "source": [
        "So, just like before, we start with the imports:"
      ],
      "metadata": {
        "id": "7fjOP78gipOs"
      }
    },
    {
      "cell_type": "code",
      "source": [
        "import torch\n",
        "from torch import nn\n",
        "import matplotlib.pyplot as plt\n",
        "import pandas as pd"
      ],
      "metadata": {
        "id": "3MEo3TsLPZ9K"
      },
      "execution_count": 1,
      "outputs": []
    },
    {
      "cell_type": "markdown",
      "source": [
        "Now, here's the first minor change. Let's make the code device-agnostic, so if a GPU is available, it will be used, otherwise the CPU will be used:"
      ],
      "metadata": {
        "id": "j_GTxLYqi2BT"
      }
    },
    {
      "cell_type": "code",
      "source": [
        "device = 'cuda' if torch.cuda.is_available() else 'cpu'\n",
        "print(f'Currently used device: {device}')"
      ],
      "metadata": {
        "colab": {
          "base_uri": "https://localhost:8080/"
        },
        "id": "2Rh4jDKm4crr",
        "outputId": "12f388c1-9b6a-49de-eb9c-b4c91e9ba622"
      },
      "execution_count": 2,
      "outputs": [
        {
          "output_type": "stream",
          "name": "stdout",
          "text": [
            "Currently used device: cpu\n"
          ]
        }
      ]
    },
    {
      "cell_type": "markdown",
      "source": [
        "As you can see, the CPU is used. Let's change it to GPU. It's possible if we use Colab. In the Runtime menu, we select Change runtime type and pick a GPU:\n",
        "\n",
        "![image.png](data:image/png;base64,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)"
      ],
      "metadata": {
        "id": "FuhmzJs5jfZG"
      }
    },
    {
      "cell_type": "markdown",
      "source": [
        "This will restart the Colab runtime and we'll lose all the saved variables. As we're starting the recreation of the model from scratch, we don't have to run all the preceding cells again. We only have to run the cell with the imports we just added. Let's check the current device again:"
      ],
      "metadata": {
        "id": "VWmVs-ovkMjl"
      }
    },
    {
      "cell_type": "code",
      "source": [
        "device = 'cuda' if torch.cuda.is_available() else 'cpu'\n",
        "print(f'Currently used device: {device}')"
      ],
      "metadata": {
        "colab": {
          "base_uri": "https://localhost:8080/"
        },
        "id": "1KM01DUXktCN",
        "outputId": "119a3d30-2a05-4a38-9f5a-0587fb4580dc"
      },
      "execution_count": 2,
      "outputs": [
        {
          "output_type": "stream",
          "name": "stdout",
          "text": [
            "Currently used device: cuda\n"
          ]
        }
      ]
    },
    {
      "cell_type": "markdown",
      "source": [
        "Now we're using cuda, which means GPU."
      ],
      "metadata": {
        "id": "MaM3d5ruk1oM"
      }
    },
    {
      "cell_type": "markdown",
      "source": [
        "Let's recreate all the initial steps now:"
      ],
      "metadata": {
        "id": "MxsMWkUIk8n1"
      }
    },
    {
      "cell_type": "code",
      "source": [
        "weight = 0.8\n",
        "bias = 0.4\n",
        "\n",
        "start = 0\n",
        "end = 1\n",
        "step = 0.01\n",
        "\n",
        "X = torch.arange(start, end, step).unsqueeze(dim=1)\n",
        "y = weight * X + bias\n",
        "\n",
        "X[:5], y[:5]"
      ],
      "metadata": {
        "colab": {
          "base_uri": "https://localhost:8080/"
        },
        "id": "hOWo9p7Z41fy",
        "outputId": "42456b27-320e-4b22-cdfc-d11bed0ebc52"
      },
      "execution_count": 3,
      "outputs": [
        {
          "output_type": "execute_result",
          "data": {
            "text/plain": [
              "(tensor([[0.0000],\n",
              "         [0.0100],\n",
              "         [0.0200],\n",
              "         [0.0300],\n",
              "         [0.0400]]),\n",
              " tensor([[0.4000],\n",
              "         [0.4080],\n",
              "         [0.4160],\n",
              "         [0.4240],\n",
              "         [0.4320]]))"
            ]
          },
          "metadata": {},
          "execution_count": 3
        }
      ]
    },
    {
      "cell_type": "markdown",
      "source": [
        "Let's create the training and test sets:"
      ],
      "metadata": {
        "id": "H6hNOu7Apb3_"
      }
    },
    {
      "cell_type": "code",
      "source": [
        "split_level = int(0.8 * len(X))\n",
        "\n",
        "X_train, y_train = X[:split_level], y[:split_level]\n",
        "X_test, y_test = X[split_level:], y[split_level:]\n",
        "\n",
        "len(X_train), len(y_train), len(X_test), len(y_test)"
      ],
      "metadata": {
        "colab": {
          "base_uri": "https://localhost:8080/"
        },
        "id": "2GiUM3135PpQ",
        "outputId": "93559f9f-b77f-42b6-8fec-c73219ce51bc"
      },
      "execution_count": 4,
      "outputs": [
        {
          "output_type": "execute_result",
          "data": {
            "text/plain": [
              "(80, 80, 20, 20)"
            ]
          },
          "metadata": {},
          "execution_count": 4
        }
      ]
    },
    {
      "cell_type": "markdown",
      "source": [
        "Let's visualize the data (make sure to run the cell above where the `plot_predictions` function was defined because we lost it while switching the runtime):"
      ],
      "metadata": {
        "id": "ZZ1gU2S5p0oO"
      }
    },
    {
      "cell_type": "code",
      "source": [
        "plot_predictions(X_train, y_train, X_test, y_test)"
      ],
      "metadata": {
        "colab": {
          "base_uri": "https://localhost:8080/",
          "height": 522
        },
        "id": "OCBkdXWU5not",
        "outputId": "9b9bce82-2e20-4e65-f9bd-76f61b25676f"
      },
      "execution_count": 7,
      "outputs": [
        {
          "output_type": "display_data",
          "data": {
            "text/plain": [
              "<Figure size 1200x600 with 1 Axes>"
            ],
            "image/png": "[encoded data removed]"
          },
          "metadata": {}
        }
      ]
    },
    {
      "cell_type": "markdown",
      "source": [
        "### Model Building"
      ],
      "metadata": {
        "id": "NUB-pTbvqUHu"
      }
    },
    {
      "cell_type": "markdown",
      "source": [
        "Let's build the model now. Here's the second change I'd like to introduce. Previously, we defined the weight and bias parameters using `nn.Parameter`. This time, we'll use `nn.Linear` to build a simple neural network with a linear layer. The `nn.Linear` method takes `in_features` and `out_features` as parameters:\n",
        "\n",
        "`in_features` - the number of dimensions of the input data,\n",
        "`out_features` - the number of dimensions the data should be output to.\n",
        "\n",
        "We'll set both `in_features` and `out_features` to 1 because our data has one input feature (`X`) per label (`y`):"
      ],
      "metadata": {
        "id": "iLeVmXQGqXju"
      }
    },
    {
      "cell_type": "code",
      "source": [
        "# Let's define a new model class.\n",
        "class LinearRegressionModelNN(nn.Module):\n",
        "    def __init__(self):\n",
        "        super().__init__()\n",
        "        self.linear_layer = nn.Linear(in_features=1, out_features=1)\n",
        "\n",
        "    def forward(self, x: torch.Tensor) -> torch.Tensor:\n",
        "        return self.linear_layer(x)"
      ],
      "metadata": {
        "id": "B0LXcv9V5rA-"
      },
      "execution_count": 8,
      "outputs": []
    },
    {
      "cell_type": "markdown",
      "source": [
        "Now, let's create an instance of the model class:"
      ],
      "metadata": {
        "id": "oRPmu2Rk1VTd"
      }
    },
    {
      "cell_type": "code",
      "source": [
        "torch.manual_seed(42)\n",
        "model_2 = LinearRegressionModelNN()\n",
        "model_2, model_2.state_dict()"
      ],
      "metadata": {
        "colab": {
          "base_uri": "https://localhost:8080/"
        },
        "id": "wIZjdOp91bqq",
        "outputId": "6149b8bd-baaf-4cb0-b4cd-af585d3a4bcd"
      },
      "execution_count": 9,
      "outputs": [
        {
          "output_type": "execute_result",
          "data": {
            "text/plain": [
              "(LinearRegressionModelNN(\n",
              "   (linear_layer): Linear(in_features=1, out_features=1, bias=True)\n",
              " ),\n",
              " OrderedDict([('linear_layer.weight', tensor([[0.7645]])),\n",
              "              ('linear_layer.bias', tensor([0.8300]))]))"
            ]
          },
          "metadata": {},
          "execution_count": 9
        }
      ]
    },
    {
      "cell_type": "markdown",
      "source": [
        "As we can see, the parameters (weight and bias) are set randomly again."
      ],
      "metadata": {
        "id": "8GfS4vSD1lU6"
      }
    },
    {
      "cell_type": "markdown",
      "source": [
        "Let's check whether the new model is on GPU or CPU:"
      ],
      "metadata": {
        "id": "K8LFTdZX1yiD"
      }
    },
    {
      "cell_type": "code",
      "source": [
        "next(model_2.parameters()).device"
      ],
      "metadata": {
        "colab": {
          "base_uri": "https://localhost:8080/"
        },
        "id": "GD-0-ELC6qqC",
        "outputId": "7a9f0171-4e62-4f9e-8119-0c6ecc9fb80c"
      },
      "execution_count": 10,
      "outputs": [
        {
          "output_type": "execute_result",
          "data": {
            "text/plain": [
              "device(type='cpu')"
            ]
          },
          "metadata": {},
          "execution_count": 10
        }
      ]
    },
    {
      "cell_type": "markdown",
      "source": [
        "Turns out, it's on CPU. Let's put it on GPU if it's available. To do this, we have to call the `to` method and pass the device to it. We set the device before to be GPU (cuda) if available or CPU otherwise, so, if GPU is not available, it will stay on CPU anyway:"
      ],
      "metadata": {
        "id": "cqimmc1F2DPb"
      }
    },
    {
      "cell_type": "code",
      "source": [
        "model_2.to(device)\n",
        "\n",
        "# Let's check the model's current device again.\n",
        "next(model_2.parameters()).device"
      ],
      "metadata": {
        "colab": {
          "base_uri": "https://localhost:8080/"
        },
        "id": "2Os582Kp60rJ",
        "outputId": "76f7d4ed-adab-4aaa-94b5-42a2809eb93f"
      },
      "execution_count": 11,
      "outputs": [
        {
          "output_type": "execute_result",
          "data": {
            "text/plain": [
              "device(type='cuda', index=0)"
            ]
          },
          "metadata": {},
          "execution_count": 11
        }
      ]
    },
    {
      "cell_type": "markdown",
      "source": [
        "Good. Now the model is on the GPU. It's time to train the model."
      ],
      "metadata": {
        "id": "ZdZ9eILx2yIN"
      }
    },
    {
      "cell_type": "markdown",
      "source": [
        "### Model Training"
      ],
      "metadata": {
        "id": "3cPLBuRM29ha"
      }
    },
    {
      "cell_type": "markdown",
      "source": [
        "We can now create the loss function and optimizer and train our model. There's nothing new here, maybe just one thing - we'll set the number of epochs to 500. With the first model we saw that at 200 epochs the predictions were pretty good, but still they did not sit on top of the green dots. Maybe we could do just a teeny tiny little bit better by increasing the number of epochs some. Why not check it out?\n",
        "\n",
        "And one more thing. For this to work, we have to put the data sets on the available device, just like we did with the model."
      ],
      "metadata": {
        "id": "dqyjWK3x3BMS"
      }
    },
    {
      "cell_type": "code",
      "source": [
        "loss_fn = nn.L1Loss()\n",
        "optimizer = torch.optim.SGD(params=model_2.parameters(), lr=0.01)\n",
        "torch.manual_seed(42)\n",
        "epochs = 500\n",
        "\n",
        "# We must put the data on the available device.\n",
        "X_train = X_train.to(device)\n",
        "y_train = y_train.to(device)\n",
        "X_test = X_test.to(device)\n",
        "y_test = y_test.to(device)\n",
        "\n",
        "for epoch in range(epochs):\n",
        "    model_2.train()\n",
        "    y_pred = model_2(X_train)\n",
        "    loss = loss_fn(y_pred, y_train)\n",
        "    optimizer.zero_grad()\n",
        "    loss.backward()\n",
        "    optimizer.step()\n",
        "\n",
        "    model_2.eval()\n",
        "    with torch.inference_mode():\n",
        "        test_pred = model_2(X_test)\n",
        "        test_loss = loss_fn(test_pred, y_test)\n",
        "\n",
        "    if epoch % 50 == 0:\n",
        "        print(f\"Epoch: {epoch} | Train Loss (MAE): {loss} | Test Loss (MAE): {test_loss} \")"
      ],
      "metadata": {
        "colab": {
          "base_uri": "https://localhost:8080/"
        },
        "id": "-AT1Nq6R78LY",
        "outputId": "0f2e1f08-4811-40a3-ca93-1f6071392ec2"
      },
      "execution_count": 12,
      "outputs": [
        {
          "output_type": "stream",
          "name": "stdout",
          "text": [
            "Epoch: 0 | Train Loss (MAE): 0.4160006642341614 | Test Loss (MAE): 0.3847346305847168 \n",
            "Epoch: 50 | Train Loss (MAE): 0.029736531898379326 | Test Loss (MAE): 0.06812500208616257 \n",
            "Epoch: 100 | Train Loss (MAE): 0.012602212838828564 | Test Loss (MAE): 0.02885502576828003 \n",
            "Epoch: 150 | Train Loss (MAE): 0.0029572814237326384 | Test Loss (MAE): 0.012540793977677822 \n",
            "Epoch: 200 | Train Loss (MAE): 0.0029572814237326384 | Test Loss (MAE): 0.012540793977677822 \n",
            "Epoch: 250 | Train Loss (MAE): 0.0029572814237326384 | Test Loss (MAE): 0.012540793977677822 \n",
            "Epoch: 300 | Train Loss (MAE): 0.0029572814237326384 | Test Loss (MAE): 0.012540793977677822 \n",
            "Epoch: 350 | Train Loss (MAE): 0.0029572814237326384 | Test Loss (MAE): 0.012540793977677822 \n",
            "Epoch: 400 | Train Loss (MAE): 0.0029572814237326384 | Test Loss (MAE): 0.012540793977677822 \n",
            "Epoch: 450 | Train Loss (MAE): 0.0029572814237326384 | Test Loss (MAE): 0.012540793977677822 \n"
          ]
        }
      ]
    },
    {
      "cell_type": "markdown",
      "source": [
        "Good, looks like the loss is pretty low:"
      ],
      "metadata": {
        "id": "zFSngzyh8g69"
      }
    },
    {
      "cell_type": "code",
      "source": [
        "updated_weight = model_2.state_dict()['linear_layer.weight'].item()\n",
        "updated_bias = model_2.state_dict()['linear_layer.bias'].item()\n",
        "\n",
        "parameter_values = pd.DataFrame({'weight': [weight, updated_weight], 'bias': [bias, updated_bias]}, index=['target', 'updated'])\n",
        "parameter_values.T"
      ],
      "metadata": {
        "colab": {
          "base_uri": "https://localhost:8080/",
          "height": 112
        },
        "id": "633C5WgC8vDV",
        "outputId": "16f677ac-5264-4557-ab55-c72d9ecf98bd"
      },
      "execution_count": 13,
      "outputs": [
        {
          "output_type": "execute_result",
          "data": {
            "text/plain": [
              "        target   updated\n",
              "weight     0.8  0.796074\n",
              "bias       0.4  0.404508"
            ],
            "text/html": [
              "\n",
              "  <div id=\"df-54aae5d0-c1a4-4f25-aa92-a729c4bb990d\" class=\"colab-df-container\">\n",
              "    <div>\n",
              "<style scoped>\n",
              "    .dataframe tbody tr th:only-of-type {\n",
              "        vertical-align: middle;\n",
              "    }\n",
              "\n",
              "    .dataframe tbody tr th {\n",
              "        vertical-align: top;\n",
              "    }\n",
              "\n",
              "    .dataframe thead th {\n",
              "        text-align: right;\n",
              "    }\n",
              "</style>\n",
              "<table border=\"1\" class=\"dataframe\">\n",
              "  <thead>\n",
              "    <tr style=\"text-align: right;\">\n",
              "      <th></th>\n",
              "      <th>target</th>\n",
              "      <th>updated</th>\n",
              "    </tr>\n",
              "  </thead>\n",
              "  <tbody>\n",
              "    <tr>\n",
              "      <th>weight</th>\n",
              "      <td>0.8</td>\n",
              "      <td>0.796074</td>\n",
              "    </tr>\n",
              "    <tr>\n",
              "      <th>bias</th>\n",
              "      <td>0.4</td>\n",
              "      <td>0.404508</td>\n",
              "    </tr>\n",
              "  </tbody>\n",
              "</table>\n",
              "</div>\n",
              "    <div class=\"colab-df-buttons\">\n",
              "\n",
              "  <div class=\"colab-df-container\">\n",
              "    <button class=\"colab-df-convert\" onclick=\"convertToInteractive('df-54aae5d0-c1a4-4f25-aa92-a729c4bb990d')\"\n",
              "            title=\"Convert this dataframe to an interactive table.\"\n",
              "            style=\"display:none;\">\n",
              "\n",
              "  <svg xmlns=\"http://www.w3.org/2000/svg\" height=\"24px\" viewBox=\"0 -960 960 960\">\n",
              "    <path d=\"M120-120v-720h720v720H120Zm60-500h600v-160H180v160Zm220 220h160v-160H400v160Zm0 220h160v-160H400v160ZM180-400h160v-160H180v160Zm440 0h160v-160H620v160ZM180-180h160v-160H180v160Zm440 0h160v-160H620v160Z\"/>\n",
              "  </svg>\n",
              "    </button>\n",
              "\n",
              "  <style>\n",
              "    .colab-df-container {\n",
              "      display:flex;\n",
              "      gap: 12px;\n",
              "    }\n",
              "\n",
              "    .colab-df-convert {\n",
              "      background-color: #E8F0FE;\n",
              "      border: none;\n",
              "      border-radius: 50%;\n",
              "      cursor: pointer;\n",
              "      display: none;\n",
              "      fill: #1967D2;\n",
              "      height: 32px;\n",
              "      padding: 0 0 0 0;\n",
              "      width: 32px;\n",
              "    }\n",
              "\n",
              "    .colab-df-convert:hover {\n",
              "      background-color: #E2EBFA;\n",
              "      box-shadow: 0px 1px 2px rgba(60, 64, 67, 0.3), 0px 1px 3px 1px rgba(60, 64, 67, 0.15);\n",
              "      fill: #174EA6;\n",
              "    }\n",
              "\n",
              "    .colab-df-buttons div {\n",
              "      margin-bottom: 4px;\n",
              "    }\n",
              "\n",
              "    [theme=dark] .colab-df-convert {\n",
              "      background-color: #3B4455;\n",
              "      fill: #D2E3FC;\n",
              "    }\n",
              "\n",
              "    [theme=dark] .colab-df-convert:hover {\n",
              "      background-color: #434B5C;\n",
              "      box-shadow: 0px 1px 3px 1px rgba(0, 0, 0, 0.15);\n",
              "      filter: drop-shadow(0px 1px 2px rgba(0, 0, 0, 0.3));\n",
              "      fill: #FFFFFF;\n",
              "    }\n",
              "  </style>\n",
              "\n",
              "    <script>\n",
              "      const buttonEl =\n",
              "        document.querySelector('#df-54aae5d0-c1a4-4f25-aa92-a729c4bb990d button.colab-df-convert');\n",
              "      buttonEl.style.display =\n",
              "        google.colab.kernel.accessAllowed ? 'block' : 'none';\n",
              "\n",
              "      async function convertToInteractive(key) {\n",
              "        const element = document.querySelector('#df-54aae5d0-c1a4-4f25-aa92-a729c4bb990d');\n",
              "        const dataTable =\n",
              "          await google.colab.kernel.invokeFunction('convertToInteractive',\n",
              "                                                    [key], {});\n",
              "        if (!dataTable) return;\n",
              "\n",
              "        const docLinkHtml = 'Like what you see? Visit the ' +\n",
              "          '<a target=\"_blank\" href=https://colab.research.google.com/notebooks/data_table.ipynb>data table notebook</a>'\n",
              "          + ' to learn more about interactive tables.';\n",
              "        element.innerHTML = '';\n",
              "        dataTable['output_type'] = 'display_data';\n",
              "        await google.colab.output.renderOutput(dataTable, element);\n",
              "        const docLink = document.createElement('div');\n",
              "        docLink.innerHTML = docLinkHtml;\n",
              "        element.appendChild(docLink);\n",
              "      }\n",
              "    </script>\n",
              "  </div>\n",
              "\n",
              "\n",
              "<div id=\"df-b8bb40f6-3856-48c2-be98-aaffb78be3d7\">\n",
              "  <button class=\"colab-df-quickchart\" onclick=\"quickchart('df-b8bb40f6-3856-48c2-be98-aaffb78be3d7')\"\n",
              "            title=\"Suggest charts\"\n",
              "            style=\"display:none;\">\n",
              "\n",
              "<svg xmlns=\"http://www.w3.org/2000/svg\" height=\"24px\"viewBox=\"0 0 24 24\"\n",
              "     width=\"24px\">\n",
              "    <g>\n",
              "        <path d=\"M19 3H5c-1.1 0-2 .9-2 2v14c0 1.1.9 2 2 2h14c1.1 0 2-.9 2-2V5c0-1.1-.9-2-2-2zM9 17H7v-7h2v7zm4 0h-2V7h2v10zm4 0h-2v-4h2v4z\"/>\n",
              "    </g>\n",
              "</svg>\n",
              "  </button>\n",
              "\n",
              "<style>\n",
              "  .colab-df-quickchart {\n",
              "      --bg-color: #E8F0FE;\n",
              "      --fill-color: #1967D2;\n",
              "      --hover-bg-color: #E2EBFA;\n",
              "      --hover-fill-color: #174EA6;\n",
              "      --disabled-fill-color: #AAA;\n",
              "      --disabled-bg-color: #DDD;\n",
              "  }\n",
              "\n",
              "  [theme=dark] .colab-df-quickchart {\n",
              "      --bg-color: #3B4455;\n",
              "      --fill-color: #D2E3FC;\n",
              "      --hover-bg-color: #434B5C;\n",
              "      --hover-fill-color: #FFFFFF;\n",
              "      --disabled-bg-color: #3B4455;\n",
              "      --disabled-fill-color: #666;\n",
              "  }\n",
              "\n",
              "  .colab-df-quickchart {\n",
              "    background-color: var(--bg-color);\n",
              "    border: none;\n",
              "    border-radius: 50%;\n",
              "    cursor: pointer;\n",
              "    display: none;\n",
              "    fill: var(--fill-color);\n",
              "    height: 32px;\n",
              "    padding: 0;\n",
              "    width: 32px;\n",
              "  }\n",
              "\n",
              "  .colab-df-quickchart:hover {\n",
              "    background-color: var(--hover-bg-color);\n",
              "    box-shadow: 0 1px 2px rgba(60, 64, 67, 0.3), 0 1px 3px 1px rgba(60, 64, 67, 0.15);\n",
              "    fill: var(--button-hover-fill-color);\n",
              "  }\n",
              "\n",
              "  .colab-df-quickchart-complete:disabled,\n",
              "  .colab-df-quickchart-complete:disabled:hover {\n",
              "    background-color: var(--disabled-bg-color);\n",
              "    fill: var(--disabled-fill-color);\n",
              "    box-shadow: none;\n",
              "  }\n",
              "\n",
              "  .colab-df-spinner {\n",
              "    border: 2px solid var(--fill-color);\n",
              "    border-color: transparent;\n",
              "    border-bottom-color: var(--fill-color);\n",
              "    animation:\n",
              "      spin 1s steps(1) infinite;\n",
              "  }\n",
              "\n",
              "  @keyframes spin {\n",
              "    0% {\n",
              "      border-color: transparent;\n",
              "      border-bottom-color: var(--fill-color);\n",
              "      border-left-color: var(--fill-color);\n",
              "    }\n",
              "    20% {\n",
              "      border-color: transparent;\n",
              "      border-left-color: var(--fill-color);\n",
              "      border-top-color: var(--fill-color);\n",
              "    }\n",
              "    30% {\n",
              "      border-color: transparent;\n",
              "      border-left-color: var(--fill-color);\n",
              "      border-top-color: var(--fill-color);\n",
              "      border-right-color: var(--fill-color);\n",
              "    }\n",
              "    40% {\n",
              "      border-color: transparent;\n",
              "      border-right-color: var(--fill-color);\n",
              "      border-top-color: var(--fill-color);\n",
              "    }\n",
              "    60% {\n",
              "      border-color: transparent;\n",
              "      border-right-color: var(--fill-color);\n",
              "    }\n",
              "    80% {\n",
              "      border-color: transparent;\n",
              "      border-right-color: var(--fill-color);\n",
              "      border-bottom-color: var(--fill-color);\n",
              "    }\n",
              "    90% {\n",
              "      border-color: transparent;\n",
              "      border-bottom-color: var(--fill-color);\n",
              "    }\n",
              "  }\n",
              "</style>\n",
              "\n",
              "  <script>\n",
              "    async function quickchart(key) {\n",
              "      const quickchartButtonEl =\n",
              "        document.querySelector('#' + key + ' button');\n",
              "      quickchartButtonEl.disabled = true;  // To prevent multiple clicks.\n",
              "      quickchartButtonEl.classList.add('colab-df-spinner');\n",
              "      try {\n",
              "        const charts = await google.colab.kernel.invokeFunction(\n",
              "            'suggestCharts', [key], {});\n",
              "      } catch (error) {\n",
              "        console.error('Error during call to suggestCharts:', error);\n",
              "      }\n",
              "      quickchartButtonEl.classList.remove('colab-df-spinner');\n",
              "      quickchartButtonEl.classList.add('colab-df-quickchart-complete');\n",
              "    }\n",
              "    (() => {\n",
              "      let quickchartButtonEl =\n",
              "        document.querySelector('#df-b8bb40f6-3856-48c2-be98-aaffb78be3d7 button');\n",
              "      quickchartButtonEl.style.display =\n",
              "        google.colab.kernel.accessAllowed ? 'block' : 'none';\n",
              "    })();\n",
              "  </script>\n",
              "</div>\n",
              "\n",
              "    </div>\n",
              "  </div>\n"
            ],
            "application/vnd.google.colaboratory.intrinsic+json": {
              "type": "dataframe",
              "summary": "{\n  \"name\": \"parameter_values\",\n  \"rows\": 2,\n  \"fields\": [\n    {\n      \"column\": \"target\",\n      \"properties\": {\n        \"dtype\": \"number\",\n        \"std\": 0.28284271247461906,\n        \"min\": 0.4,\n        \"max\": 0.8,\n        \"num_unique_values\": 2,\n        \"samples\": [\n          0.4,\n          0.8\n        ],\n        \"semantic_type\": \"\",\n        \"description\": \"\"\n      }\n    },\n    {\n      \"column\": \"updated\",\n      \"properties\": {\n        \"dtype\": \"number\",\n        \"std\": 0.2768792537263762,\n        \"min\": 0.40450793504714966,\n        \"max\": 0.7960743308067322,\n        \"num_unique_values\": 2,\n        \"samples\": [\n          0.40450793504714966,\n          0.7960743308067322\n        ],\n        \"semantic_type\": \"\",\n        \"description\": \"\"\n      }\n    }\n  ]\n}"
            }
          },
          "metadata": {},
          "execution_count": 13
        }
      ]
    },
    {
      "cell_type": "markdown",
      "source": [
        "Great, the values seem very close. Let's make the predictions and visualize the data with the predictions."
      ],
      "metadata": {
        "id": "1Poc3mk79gPO"
      }
    },
    {
      "cell_type": "markdown",
      "source": [
        "### Model Evaluation"
      ],
      "metadata": {
        "id": "MNbvCckD92dV"
      }
    },
    {
      "cell_type": "markdown",
      "source": [
        "Let's evaluate the model then:"
      ],
      "metadata": {
        "id": "O8LzKJ6j95Du"
      }
    },
    {
      "cell_type": "code",
      "source": [
        "model_2.eval()\n",
        "with torch.inference_mode():\n",
        "    y_preds = model_2(X_test)\n",
        "y_preds"
      ],
      "metadata": {
        "colab": {
          "base_uri": "https://localhost:8080/"
        },
        "id": "QuIAjsiG-PVq",
        "outputId": "c60cd292-287d-4654-97c1-3060c54cb91c"
      },
      "execution_count": 14,
      "outputs": [
        {
          "output_type": "execute_result",
          "data": {
            "text/plain": [
              "tensor([[1.0414],\n",
              "        [1.0493],\n",
              "        [1.0573],\n",
              "        [1.0652],\n",
              "        [1.0732],\n",
              "        [1.0812],\n",
              "        [1.0891],\n",
              "        [1.0971],\n",
              "        [1.1051],\n",
              "        [1.1130],\n",
              "        [1.1210],\n",
              "        [1.1289],\n",
              "        [1.1369],\n",
              "        [1.1449],\n",
              "        [1.1528],\n",
              "        [1.1608],\n",
              "        [1.1687],\n",
              "        [1.1767],\n",
              "        [1.1847],\n",
              "        [1.1926]], device='cuda:0')"
            ]
          },
          "metadata": {},
          "execution_count": 14
        }
      ]
    },
    {
      "cell_type": "code",
      "source": [
        "plot_predictions(predictions=y_preds.cpu())"
      ],
      "metadata": {
        "colab": {
          "base_uri": "https://localhost:8080/",
          "height": 522
        },
        "id": "eGaCq5oO-U-G",
        "outputId": "09f11110-14c3-46d6-9bff-e86f6ba9f0cf"
      },
      "execution_count": 15,
      "outputs": [
        {
          "output_type": "display_data",
          "data": {
            "text/plain": [
              "<Figure size 1200x600 with 1 Axes>"
            ],
            "image/png": "[encoded data removed]"
          },
          "metadata": {}
        }
      ]
    },
    {
      "cell_type": "markdown",
      "source": [
        "As you can see, the red dots sit almost exactly on top of the green ones, which means the model is performing really well."
      ],
      "metadata": {
        "id": "XqsLQ5rpRFGf"
      }
    },
    {
      "cell_type": "markdown",
      "source": [
        "## Conclusion"
      ],
      "metadata": {
        "id": "pWG7ShyuRoex"
      }
    },
    {
      "cell_type": "markdown",
      "source": [
        "We trained a pretty good model. Its predictions are very good. It's been a very basic model, but I just wanted to show you all the necessary steps it takes to create a complete linear regression model.\n",
        "\n",
        "If you want, you can save the model and use it later in another notebook or application. I'm not going to repeat those steps here, but you know how to do it."
      ],
      "metadata": {
        "id": "6rN0EXMlRrZP"
      }
    }
  ]
}